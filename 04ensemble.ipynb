{
 "cells": [
  {
   "cell_type": "markdown",
   "id": "2e4fabad",
   "metadata": {},
   "source": [
    "Imports"
   ]
  },
  {
   "cell_type": "code",
   "execution_count": 1,
   "id": "83f89893",
   "metadata": {},
   "outputs": [],
   "source": [
    "import pandas as pd\n",
    "import re"
   ]
  },
  {
   "cell_type": "markdown",
   "id": "ac966f1c",
   "metadata": {},
   "source": [
    "carregando xlsx"
   ]
  },
  {
   "cell_type": "code",
   "execution_count": 2,
   "id": "e5cdc980",
   "metadata": {},
   "outputs": [],
   "source": [
    "df = pd.read_excel('laudos_piloto002.xlsx')"
   ]
  },
  {
   "cell_type": "markdown",
   "id": "a0ceb141",
   "metadata": {},
   "source": [
    "Padronizando Regiao"
   ]
  },
  {
   "cell_type": "code",
   "execution_count": 3,
   "id": "0fda43f1",
   "metadata": {},
   "outputs": [],
   "source": [
    "df['Regiao'] = df['Regiao'].str.upper()"
   ]
  },
  {
   "cell_type": "code",
   "execution_count": 4,
   "id": "0e09da73",
   "metadata": {},
   "outputs": [],
   "source": [
    "df.loc[df['Regiao'].str.contains('ABDOM', na=False), 'Regiao'] = 'ABDOMEN'"
   ]
  },
  {
   "cell_type": "code",
   "execution_count": 5,
   "id": "d008972e",
   "metadata": {},
   "outputs": [],
   "source": [
    "def extrair_regioes(texto):\n",
    "    regioes = []\n",
    "    if pd.isna(texto):\n",
    "        return []\n",
    "\n",
    "    texto = texto.upper()\n",
    "\n",
    "    if 'ABDOM' in texto or 'ABDÔMEN' in texto:\n",
    "        regioes.append('ABDOMEN')\n",
    "    if 'TÓRAX' in texto or 'CERVICAL (TECIDOS MOLES)' in texto or 'CERVICAL (PARTES MOLES)' in texto or 'TORAX' in texto:\n",
    "        regioes.append('TORAX')\n",
    "    if 'CRÂNIO' in texto:\n",
    "        regioes.append('CRANIO')\n",
    "    if any(x in texto for x in ['COLUNA', 'LOMBOSSACRA','TORACOLOMBAR','COCCÍGEO', 'CALDA']):\n",
    "        regioes.append('COLUNA')\n",
    "    if any(x in texto for x in ['COXAL', 'MEMBRO', 'JOELHO', 'FÊMUR','OMBRO', 'COTOVELO', 'RÁDIO', 'ULNA', 'TARSO', 'DIGITO', 'PELVE', 'MPE', 'MPD', 'MTD', 'MP', 'CONTRA']):\n",
    "        regioes.append('EXTREMIDADES')\n",
    "    if ('CORPO INTEIRO' in texto or 'SILVESTRE' in texto or re.search(r'\\bCI\\b', texto) or 'CAVIDADE CELOMÁTICA' in texto):\n",
    "        regioes.append('CORPO_INTEIRO')\n",
    "    if 'SONDA' in texto or 'ESOFAGICA' in texto:\n",
    "        regioes.append('TORAX')\n",
    "\n",
    "    return list(set(regioes)) "
   ]
  },
  {
   "cell_type": "markdown",
   "id": "6e182d56",
   "metadata": {},
   "source": [
    "isolando corpo inteiro"
   ]
  },
  {
   "cell_type": "code",
   "execution_count": 6,
   "id": "22efc4fc",
   "metadata": {},
   "outputs": [],
   "source": [
    "def ajustar_regiao_corpo(regioes):\n",
    "    if 'CORPO_INTEIRO' in regioes:\n",
    "        return ['CORPO_INTEIRO']\n",
    "    return regioes"
   ]
  },
  {
   "cell_type": "code",
   "execution_count": 7,
   "id": "1a113f02",
   "metadata": {},
   "outputs": [],
   "source": [
    "df['regiao_corpo'] = df['Regiao'].apply(extrair_regioes)\n",
    "df['regiao_corpo'] = df['regiao_corpo'].apply(ajustar_regiao_corpo)\n",
    "df['regiao_corpo_str'] = df['regiao_corpo'].apply(lambda x: ', '.join(x))\n"
   ]
  },
  {
   "cell_type": "code",
   "execution_count": 8,
   "id": "32f70ca9",
   "metadata": {},
   "outputs": [],
   "source": [
    "df['regiao_corpo_str'] = df['regiao_corpo'].apply(lambda x: ', '.join(x))"
   ]
  },
  {
   "cell_type": "code",
   "execution_count": 9,
   "id": "fb5bb175",
   "metadata": {},
   "outputs": [],
   "source": [
    "def preencher_regiao(row):\n",
    "    # Se já tem regiao_corpo preenchido, mantém\n",
    "    if row['regiao_corpo']:\n",
    "        return row['regiao_corpo']\n",
    "    \n",
    "    regioes = []\n",
    "\n",
    "    # Tentar extrair da Exames Separados\n",
    "    if isinstance(row['Exames Separados'], list):\n",
    "        for exame in row['Exames Separados']:\n",
    "            regioes += extrair_regioes(exame)\n",
    "    \n",
    "    # Se ainda vazio, tenta de Todos Exames\n",
    "    if not regioes and isinstance(row['Todos Exames'], str):\n",
    "        regioes += extrair_regioes(row['Todos Exames'])\n",
    "\n",
    "    # Eliminar duplicatas\n",
    "    return list(set(regioes))\n"
   ]
  },
  {
   "cell_type": "code",
   "execution_count": 10,
   "id": "518ae2fb",
   "metadata": {},
   "outputs": [],
   "source": [
    "df['regiao_corpo'] = df.apply(preencher_regiao, axis=1)"
   ]
  },
  {
   "cell_type": "code",
   "execution_count": 11,
   "id": "4b5ca136",
   "metadata": {},
   "outputs": [],
   "source": [
    "df['regiao_corpo_str'] = df['regiao_corpo'].apply(lambda x: ', '.join(x))"
   ]
  },
  {
   "cell_type": "code",
   "execution_count": 12,
   "id": "91611cfc",
   "metadata": {},
   "outputs": [
    {
     "data": {
      "text/plain": [
       "(0, 23)"
      ]
     },
     "execution_count": 12,
     "metadata": {},
     "output_type": "execute_result"
    }
   ],
   "source": [
    "df[df['regiao_corpo'].apply(lambda x: len(x) == 0)].shape"
   ]
  },
  {
   "cell_type": "code",
   "execution_count": 13,
   "id": "ba4dac08",
   "metadata": {},
   "outputs": [],
   "source": [
    "df['regiao_corpo'] = df['regiao_corpo'].apply(lambda x: x if isinstance(x, list) and x else ['INDEFINIDO'])"
   ]
  },
  {
   "cell_type": "markdown",
   "id": "9bf72806",
   "metadata": {},
   "source": [
    "Filtrando as categorias para melhorar a eficacia do modelo"
   ]
  },
  {
   "cell_type": "code",
   "execution_count": 14,
   "id": "9ccb65a1",
   "metadata": {},
   "outputs": [],
   "source": [
    "categorias_validas = [\n",
    "    ['TORAX'],\n",
    "    ['CORPO_INTEIRO'],\n",
    "    ['EXTREMIDADES'],\n",
    "    ['COLUNA'],\n",
    "    ['ABDOMEN'],\n",
    "    ['CRANIO'],\n",
    "    ['EXTREMIDADES', 'COLUNA']\n",
    "]"
   ]
  },
  {
   "cell_type": "code",
   "execution_count": 15,
   "id": "3a116faf",
   "metadata": {},
   "outputs": [],
   "source": [
    "def manter_categoria(regioes):\n",
    "    return regioes in categorias_validas"
   ]
  },
  {
   "cell_type": "code",
   "execution_count": 16,
   "id": "069ed396",
   "metadata": {},
   "outputs": [],
   "source": [
    "df = df[df['regiao_corpo'].apply(manter_categoria)].reset_index(drop=True)"
   ]
  },
  {
   "cell_type": "code",
   "execution_count": 17,
   "id": "d373fecf",
   "metadata": {},
   "outputs": [
    {
     "data": {
      "text/plain": [
       "regiao_corpo\n",
       "[TORAX]            338\n",
       "[EXTREMIDADES]     257\n",
       "[COLUNA]           125\n",
       "[CORPO_INTEIRO]    117\n",
       "[ABDOMEN]           70\n",
       "[CRANIO]            55\n",
       "Name: count, dtype: int64"
      ]
     },
     "execution_count": 17,
     "metadata": {},
     "output_type": "execute_result"
    }
   ],
   "source": [
    "df['regiao_corpo'].value_counts()"
   ]
  },
  {
   "cell_type": "code",
   "execution_count": 19,
   "id": "0e79fc65",
   "metadata": {},
   "outputs": [],
   "source": [
    "df.to_excel('laudos_piloto002.xlsx', index=False)"
   ]
  }
 ],
 "metadata": {
  "kernelspec": {
   "display_name": "base",
   "language": "python",
   "name": "python3"
  },
  "language_info": {
   "codemirror_mode": {
    "name": "ipython",
    "version": 3
   },
   "file_extension": ".py",
   "mimetype": "text/x-python",
   "name": "python",
   "nbconvert_exporter": "python",
   "pygments_lexer": "ipython3",
   "version": "3.13.3"
  }
 },
 "nbformat": 4,
 "nbformat_minor": 5
}
