{
 "cells": [
  {
   "cell_type": "markdown",
   "id": "3c694135",
   "metadata": {},
   "source": [
    "Manipulando dados para serem processador no Machine Learning"
   ]
  },
  {
   "cell_type": "markdown",
   "id": "c62fdc78",
   "metadata": {},
   "source": [
    "Imports"
   ]
  },
  {
   "cell_type": "code",
   "execution_count": 354,
   "id": "a628465f",
   "metadata": {},
   "outputs": [],
   "source": [
    "import unicodedata\n",
    "import re\n",
    "import os\n",
    "import numpy as np\n",
    "import pandas as pd"
   ]
  },
  {
   "cell_type": "markdown",
   "id": "62961c94",
   "metadata": {},
   "source": [
    "Ler Excel"
   ]
  },
  {
   "cell_type": "code",
   "execution_count": 355,
   "id": "9e97cf07",
   "metadata": {},
   "outputs": [],
   "source": [
    "df = pd.read_excel('laudos_piloto.xlsx')"
   ]
  },
  {
   "cell_type": "markdown",
   "id": "7bd5911c",
   "metadata": {},
   "source": [
    "Limpando dados nulos que não foram coletadas corretamente"
   ]
  },
  {
   "cell_type": "code",
   "execution_count": 356,
   "id": "c3193218",
   "metadata": {},
   "outputs": [
    {
     "data": {
      "text/plain": [
       "ID                       0\n",
       "Nome do Paciente         0\n",
       "Nome do Tutor          190\n",
       "Idade                  190\n",
       "Espécie                  0\n",
       "Raça                    10\n",
       "Regiao                   0\n",
       "Posicionamentos          0\n",
       "Laudo                    0\n",
       "Exame                    6\n",
       "Numero de Projeções     65\n",
       "Data do Exame            6\n",
       "Imagens                  6\n",
       "dtype: int64"
      ]
     },
     "execution_count": 356,
     "metadata": {},
     "output_type": "execute_result"
    }
   ],
   "source": [
    "df.isnull().sum()"
   ]
  },
  {
   "cell_type": "code",
   "execution_count": 357,
   "id": "fcf4d1dd",
   "metadata": {},
   "outputs": [],
   "source": [
    "df = df.dropna(subset=['Laudo', 'Imagens','Exame', 'Raça','Idade'])"
   ]
  },
  {
   "cell_type": "code",
   "execution_count": 358,
   "id": "b6ecbd19",
   "metadata": {},
   "outputs": [
    {
     "data": {
      "text/plain": [
       "(2418, 13)"
      ]
     },
     "execution_count": 358,
     "metadata": {},
     "output_type": "execute_result"
    }
   ],
   "source": [
    "df.shape"
   ]
  },
  {
   "cell_type": "code",
   "execution_count": 359,
   "id": "5c9c27cc",
   "metadata": {},
   "outputs": [
    {
     "data": {
      "text/plain": [
       "ID                      0\n",
       "Nome do Paciente        0\n",
       "Nome do Tutor           0\n",
       "Idade                   0\n",
       "Espécie                 0\n",
       "Raça                    0\n",
       "Regiao                  0\n",
       "Posicionamentos         0\n",
       "Laudo                   0\n",
       "Exame                   0\n",
       "Numero de Projeções    56\n",
       "Data do Exame           0\n",
       "Imagens                 0\n",
       "dtype: int64"
      ]
     },
     "execution_count": 359,
     "metadata": {},
     "output_type": "execute_result"
    }
   ],
   "source": [
    "df.isnull().sum()"
   ]
  },
  {
   "cell_type": "markdown",
   "id": "5e1cd94d",
   "metadata": {},
   "source": [
    "Alterando idade para meses"
   ]
  },
  {
   "cell_type": "code",
   "execution_count": 360,
   "id": "8ecb9e6a",
   "metadata": {},
   "outputs": [],
   "source": [
    "def idade_para_meses(idade_str):\n",
    "    if pd.isnull(idade_str):\n",
    "        return None\n",
    "    idade_str = idade_str.lower()\n",
    "    anos = re.search(r'(\\d+)\\s*ano', idade_str)\n",
    "    meses = re.search(r'(\\d+)\\s*mes', idade_str)\n",
    "\n",
    "    total_meses = 0\n",
    "    if anos:\n",
    "        total_meses += int(anos.group(1)) * 12\n",
    "    if meses:\n",
    "        total_meses += int(meses.group(1))\n",
    "    \n",
    "    return total_meses if total_meses > 0 else None"
   ]
  },
  {
   "cell_type": "code",
   "execution_count": 361,
   "id": "730c3211",
   "metadata": {},
   "outputs": [],
   "source": [
    "df['Idade (meses)'] = df['Idade'].apply(idade_para_meses)"
   ]
  },
  {
   "cell_type": "code",
   "execution_count": 362,
   "id": "35d31325",
   "metadata": {},
   "outputs": [],
   "source": [
    "df.drop(columns=['Idade'], inplace=True)\n"
   ]
  },
  {
   "cell_type": "code",
   "execution_count": 363,
   "id": "61209deb",
   "metadata": {},
   "outputs": [
    {
     "data": {
      "text/html": [
       "<div>\n",
       "<style scoped>\n",
       "    .dataframe tbody tr th:only-of-type {\n",
       "        vertical-align: middle;\n",
       "    }\n",
       "\n",
       "    .dataframe tbody tr th {\n",
       "        vertical-align: top;\n",
       "    }\n",
       "\n",
       "    .dataframe thead th {\n",
       "        text-align: right;\n",
       "    }\n",
       "</style>\n",
       "<table border=\"1\" class=\"dataframe\">\n",
       "  <thead>\n",
       "    <tr style=\"text-align: right;\">\n",
       "      <th></th>\n",
       "      <th>ID</th>\n",
       "      <th>Nome do Paciente</th>\n",
       "      <th>Nome do Tutor</th>\n",
       "      <th>Espécie</th>\n",
       "      <th>Raça</th>\n",
       "      <th>Regiao</th>\n",
       "      <th>Posicionamentos</th>\n",
       "      <th>Laudo</th>\n",
       "      <th>Exame</th>\n",
       "      <th>Numero de Projeções</th>\n",
       "      <th>Data do Exame</th>\n",
       "      <th>Imagens</th>\n",
       "      <th>Idade (meses)</th>\n",
       "    </tr>\n",
       "  </thead>\n",
       "  <tbody>\n",
       "    <tr>\n",
       "      <th>0</th>\n",
       "      <td>1</td>\n",
       "      <td>BALTAZAR</td>\n",
       "      <td>ANDRESSA</td>\n",
       "      <td>CANINO</td>\n",
       "      <td>CAVALIER KING CHARLES</td>\n",
       "      <td>Coluna vertebral (segmento cervicotorácica e t...</td>\n",
       "      <td>Laterolateral (decúbito lateral direito) e ven...</td>\n",
       "      <td>Diminuição do espaço intervertebral entre T11-...</td>\n",
       "      <td>COLUNA</td>\n",
       "      <td>5P</td>\n",
       "      <td>29/04/2025</td>\n",
       "      <td>001_BALTAZAR ANDRESSA 12 anos 17225 29_04_2025...</td>\n",
       "      <td>144</td>\n",
       "    </tr>\n",
       "  </tbody>\n",
       "</table>\n",
       "</div>"
      ],
      "text/plain": [
       "   ID Nome do Paciente Nome do Tutor Espécie                   Raça  \\\n",
       "0   1         BALTAZAR      ANDRESSA  CANINO  CAVALIER KING CHARLES   \n",
       "\n",
       "                                              Regiao  \\\n",
       "0  Coluna vertebral (segmento cervicotorácica e t...   \n",
       "\n",
       "                                     Posicionamentos  \\\n",
       "0  Laterolateral (decúbito lateral direito) e ven...   \n",
       "\n",
       "                                               Laudo   Exame  \\\n",
       "0  Diminuição do espaço intervertebral entre T11-...  COLUNA   \n",
       "\n",
       "  Numero de Projeções Data do Exame  \\\n",
       "0                  5P    29/04/2025   \n",
       "\n",
       "                                             Imagens  Idade (meses)  \n",
       "0  001_BALTAZAR ANDRESSA 12 anos 17225 29_04_2025...            144  "
      ]
     },
     "execution_count": 363,
     "metadata": {},
     "output_type": "execute_result"
    }
   ],
   "source": [
    "df.head(1)"
   ]
  },
  {
   "cell_type": "markdown",
   "id": "364fc144",
   "metadata": {},
   "source": [
    "Contando quantidade de imagens e colocando dentro de uma coluna\n"
   ]
  },
  {
   "cell_type": "code",
   "execution_count": 364,
   "id": "7efa3c0f",
   "metadata": {},
   "outputs": [],
   "source": [
    "df['lista de imagens'] = df['Imagens'].apply(\n",
    "    lambda x: [img.strip() for img in str(x).split(',')] if pd.notnull(x) else []\n",
    ")"
   ]
  },
  {
   "cell_type": "code",
   "execution_count": 365,
   "id": "a8a98931",
   "metadata": {},
   "outputs": [],
   "source": [
    "df['quantidade de imagens'] = df['lista de imagens'].apply(len)"
   ]
  },
  {
   "cell_type": "code",
   "execution_count": 366,
   "id": "ee30ee15",
   "metadata": {},
   "outputs": [
    {
     "data": {
      "text/plain": [
       "(2418, 15)"
      ]
     },
     "execution_count": 366,
     "metadata": {},
     "output_type": "execute_result"
    }
   ],
   "source": [
    "df.shape"
   ]
  },
  {
   "cell_type": "code",
   "execution_count": 367,
   "id": "24a641ae",
   "metadata": {},
   "outputs": [
    {
     "data": {
      "text/plain": [
       "ID                        0\n",
       "Nome do Paciente          0\n",
       "Nome do Tutor             0\n",
       "Espécie                   0\n",
       "Raça                      0\n",
       "Regiao                    0\n",
       "Posicionamentos           0\n",
       "Laudo                     0\n",
       "Exame                     0\n",
       "Numero de Projeções      56\n",
       "Data do Exame             0\n",
       "Imagens                   0\n",
       "Idade (meses)             0\n",
       "lista de imagens          0\n",
       "quantidade de imagens     0\n",
       "dtype: int64"
      ]
     },
     "execution_count": 367,
     "metadata": {},
     "output_type": "execute_result"
    }
   ],
   "source": [
    "df.isnull().sum()"
   ]
  },
  {
   "cell_type": "code",
   "execution_count": 368,
   "id": "d47b43c2",
   "metadata": {},
   "outputs": [],
   "source": [
    "df = df.dropna(subset=['Idade (meses)', 'Exame'])"
   ]
  },
  {
   "cell_type": "code",
   "execution_count": 369,
   "id": "d58e80ae",
   "metadata": {},
   "outputs": [
    {
     "data": {
      "text/plain": [
       "ID                        0\n",
       "Nome do Paciente          0\n",
       "Nome do Tutor             0\n",
       "Espécie                   0\n",
       "Raça                      0\n",
       "Regiao                    0\n",
       "Posicionamentos           0\n",
       "Laudo                     0\n",
       "Exame                     0\n",
       "Numero de Projeções      56\n",
       "Data do Exame             0\n",
       "Imagens                   0\n",
       "Idade (meses)             0\n",
       "lista de imagens          0\n",
       "quantidade de imagens     0\n",
       "dtype: int64"
      ]
     },
     "execution_count": 369,
     "metadata": {},
     "output_type": "execute_result"
    }
   ],
   "source": [
    "df.isnull().sum()"
   ]
  },
  {
   "cell_type": "markdown",
   "id": "b5b400f9",
   "metadata": {},
   "source": [
    "Separando exames com alteração em laudo e sem alteração no laudo"
   ]
  },
  {
   "cell_type": "code",
   "execution_count": 370,
   "id": "3fe83aa1",
   "metadata": {},
   "outputs": [],
   "source": [
    "def verificar_alteracao(laudo):\n",
    "    palavras_alteracao = ['fratura', 'luxação', 'subluxação', 'desvio', 'deslocamento',\n",
    "        'lesão', 'lesões', 'infiltração', 'inflamação', 'calcificação',\n",
    "        'osteofitose', 'osteólise', 'osteopenia', 'osteoporose', 'edema',\n",
    "        'compressão', 'colapso', 'protusão', 'extrusão', 'degeneração',\n",
    "        'esclerose', 'hiperplasia', 'hipoplasia', 'hipodensidade', 'hiperdensidade',\n",
    "        'afundamento', 'espaçamento reduzido', 'desalinhamento', 'alinhamento anormal',\n",
    "        'massas', 'tumoração', 'nódulo', 'nodularidade', 'irregularidade',\n",
    "        'espessamento', 'redução de espaço articular', 'calcificações',\n",
    "        'contusão', 'hemorragia', 'distensão', 'distúrbio', 'erosão', 'artrite',\n",
    "        'artrose', 'necrose', 'proliferação óssea', 'aplasia', 'estenose',\n",
    "        'encurtamento', 'malformação', 'incongruência articular',\n",
    "        'litíase', 'urolitíase', 'colelitíase', 'pneumotórax', 'hidrotórax',\n",
    "        'pneumonia', 'atelectasia', 'derrame pleural', 'bronquite', 'broncopneumonia',\n",
    "        'densificação', 'opacificação', 'hipotransparência', 'hipertransparência',\n",
    "        'linfadenomegalia', 'hepatomegalia', 'esplenomegalia', 'megacólon', 'gás livre',\n",
    "        'retenção fecal', 'dilatação', 'intussuscepção', 'volvo', 'torsão', 'ruptura',\n",
    "        'derrame', 'alça distendida', 'assimetrias', 'calcificação distrófica',\n",
    "        'hipervascularização', 'condromalácia', 'sinais de trauma', 'sinais de instabilidade',\n",
    "        'espessamento pleural', 'parênquima irregular', 'massa pulmonar', 'bronquiectasia',\n",
    "        'cisto', 'condensação', 'hipoecogenicidade', 'hiperecogenicidade', 'ectasia',\n",
    "        'metástase', 'infiltrado', 'infiltrado intersticial', 'obliteração', 'reabsorção óssea',\n",
    "        'descontinuidade cortical', 'linhas de fratura', 'sinais de infecção', 'proeminência óssea'\n",
    "    ]\n",
    "    \n",
    "    # Palavras que indicam normalidade\n",
    "    palavras_normais = ['normal', 'normais', 'sem alterações', 'sem alteracoes', \n",
    "                       'dentro da normalidade', 'dentro dos padrões de normalidade',\n",
    "                       'sem anormalidades', 'sem anormalidades detectadas',\n",
    "                       'adequado', 'adequados', 'preservado', 'preservados',\n",
    "                       'sem sinais de', 'ausência de', 'ausencia de']\n",
    "    \n",
    "    laudo = str(laudo).lower()\n",
    "    laudo_limpo = re.sub(r'[^\\w\\s]', ' ', laudo)  # Remove pontuação\n",
    "    \n",
    "    # Verificar se há indicação explícita de normalidade\n",
    "    for palavra_normal in palavras_normais:\n",
    "        if palavra_normal in laudo:\n",
    "            # Se encontrou palavra normal, verificar se não há contradição\n",
    "            palavras_encontradas = []\n",
    "            for palavra in palavras_alteracao:\n",
    "                # Padrão de negação\n",
    "                padrao_negado = r'(sem|não|nao|ausência de|ausencia de|negativo para|descartado|descartada)\\s+(\\w+\\s+){0,5}' + re.escape(palavra)\n",
    "                padrao_afirmativo = r'\\b' + re.escape(palavra) + r'\\b'\n",
    "                \n",
    "                if re.search(padrao_negado, laudo):\n",
    "                    continue  # Palavra negada, não conta\n",
    "                if re.search(padrao_afirmativo, laudo):\n",
    "                    palavras_encontradas.append(palavra)\n",
    "            \n",
    "            # Se encontrou normalidade mas também alterações, priorizar alterações\n",
    "            if palavras_encontradas:\n",
    "                return 1\n",
    "            else:\n",
    "                return 0\n",
    "    \n",
    "    # Se não há indicação explícita de normalidade, procurar por alterações\n",
    "    for palavra in palavras_alteracao:\n",
    "        # Padrão de negação mais robusto\n",
    "        padrao_negado = r'(sem|não|nao|ausência de|ausencia de|negativo para|descartado|descartada)\\s+(\\w+\\s+){0,5}' + re.escape(palavra)\n",
    "        padrao_afirmativo = r'\\b' + re.escape(palavra) + r'\\b'\n",
    "        \n",
    "        if re.search(padrao_negado, laudo):\n",
    "            continue  # Palavra negada, não conta\n",
    "        if re.search(padrao_afirmativo, laudo):\n",
    "            return 1\n",
    "    \n",
    "    return 0"
   ]
  },
  {
   "cell_type": "code",
   "execution_count": 371,
   "id": "877e7075",
   "metadata": {},
   "outputs": [],
   "source": [
    "df['Laudo Alterado'] = df['Laudo'].apply(verificar_alteracao)"
   ]
  },
  {
   "cell_type": "code",
   "execution_count": 372,
   "id": "721b1dd6",
   "metadata": {},
   "outputs": [
    {
     "data": {
      "text/plain": [
       "Laudo Alterado\n",
       "1    1583\n",
       "0     835\n",
       "Name: count, dtype: int64"
      ]
     },
     "execution_count": 372,
     "metadata": {},
     "output_type": "execute_result"
    }
   ],
   "source": [
    "df['Laudo Alterado'].value_counts()"
   ]
  },
  {
   "cell_type": "markdown",
   "id": "362d1d0f",
   "metadata": {},
   "source": [
    "Padronizando nomes"
   ]
  },
  {
   "cell_type": "code",
   "execution_count": 373,
   "id": "1fc1a080",
   "metadata": {},
   "outputs": [],
   "source": [
    "def padronizar_especie(valor):\n",
    "    valor = str(valor).strip().lower()\n",
    "\n",
    "    if 'fel' in valor:\n",
    "        return 'FELINO'\n",
    "    elif 'can' in valor:\n",
    "        return 'CANINO'\n",
    "    else:\n",
    "        return valor"
   ]
  },
  {
   "cell_type": "code",
   "execution_count": 374,
   "id": "b9c37c32",
   "metadata": {},
   "outputs": [],
   "source": [
    "df['Espécie'] = df['Espécie'].apply(padronizar_especie)"
   ]
  },
  {
   "cell_type": "code",
   "execution_count": 375,
   "id": "885b3c3b",
   "metadata": {},
   "outputs": [
    {
     "data": {
      "text/plain": [
       "(2418, 16)"
      ]
     },
     "execution_count": 375,
     "metadata": {},
     "output_type": "execute_result"
    }
   ],
   "source": [
    "df.shape"
   ]
  },
  {
   "cell_type": "code",
   "execution_count": 376,
   "id": "7b7c43c8",
   "metadata": {},
   "outputs": [],
   "source": [
    "def remove_duplicatas(texto):\n",
    "    if isinstance(texto, str):\n",
    "        palavras = texto.split()\n",
    "        palavras_unicas = []\n",
    "        for p in palavras:\n",
    "            if p not in palavras_unicas:\n",
    "                palavras_unicas.append(p)\n",
    "        return ' '.join(palavras_unicas)\n",
    "    return texto"
   ]
  },
  {
   "cell_type": "code",
   "execution_count": 377,
   "id": "450c1b40",
   "metadata": {},
   "outputs": [],
   "source": [
    "df['Exame'] = df['Exame'].apply(remove_duplicatas)"
   ]
  },
  {
   "cell_type": "code",
   "execution_count": 378,
   "id": "58404856",
   "metadata": {},
   "outputs": [
    {
     "data": {
      "text/plain": [
       "(2418, 16)"
      ]
     },
     "execution_count": 378,
     "metadata": {},
     "output_type": "execute_result"
    }
   ],
   "source": [
    "df.shape"
   ]
  },
  {
   "cell_type": "markdown",
   "id": "2987f8c4",
   "metadata": {},
   "source": [
    "Exame separado por '+'"
   ]
  },
  {
   "cell_type": "code",
   "execution_count": 379,
   "id": "fbc28094",
   "metadata": {},
   "outputs": [],
   "source": [
    "df = df.rename(columns={'Exame': 'Todos Exames'})"
   ]
  },
  {
   "cell_type": "code",
   "execution_count": 380,
   "id": "6528e56f",
   "metadata": {},
   "outputs": [],
   "source": [
    "def separar_exames(valor):\n",
    "    if pd.isna(valor) or str(valor).strip() == '':\n",
    "        return []\n",
    "    return [item.strip() for item in str(valor).split('+')]"
   ]
  },
  {
   "cell_type": "markdown",
   "id": "757700e2",
   "metadata": {},
   "source": [
    "Separar Exames"
   ]
  },
  {
   "cell_type": "code",
   "execution_count": 381,
   "id": "03e5e2d6",
   "metadata": {},
   "outputs": [],
   "source": [
    "df['Exames Separados'] = df['Todos Exames'].apply(separar_exames)"
   ]
  },
  {
   "cell_type": "markdown",
   "id": "0e035ec1",
   "metadata": {},
   "source": [
    "Determinar o número máximo de exames para definir quantas colunas criar"
   ]
  },
  {
   "cell_type": "code",
   "execution_count": 382,
   "id": "5133b015",
   "metadata": {},
   "outputs": [],
   "source": [
    "max_exames = df['Exames Separados'].apply(len).max()"
   ]
  },
  {
   "cell_type": "markdown",
   "id": "144df122",
   "metadata": {},
   "source": [
    "Criar novas colunas com base no número de exames"
   ]
  },
  {
   "cell_type": "code",
   "execution_count": 383,
   "id": "458ff90d",
   "metadata": {},
   "outputs": [],
   "source": [
    "nomes_colunas = ['Primeira Região', 'Segunda Região', 'Terceira Região', \n",
    "                'Quarta Região', 'Quinta Região', 'Sexta Região']\n",
    "\n",
    "for i in range(max_exames):\n",
    "    if i < len(nomes_colunas):\n",
    "        nome_coluna = nomes_colunas[i]\n",
    "    else:\n",
    "        nome_coluna = f'Região {i + 1}'\n",
    "    df[nome_coluna] = df['Exames Separados'].apply(lambda x: x[i] if i < len(x) else None)"
   ]
  },
  {
   "cell_type": "code",
   "execution_count": 384,
   "id": "e0aa683a",
   "metadata": {},
   "outputs": [
    {
     "data": {
      "text/html": [
       "<div>\n",
       "<style scoped>\n",
       "    .dataframe tbody tr th:only-of-type {\n",
       "        vertical-align: middle;\n",
       "    }\n",
       "\n",
       "    .dataframe tbody tr th {\n",
       "        vertical-align: top;\n",
       "    }\n",
       "\n",
       "    .dataframe thead th {\n",
       "        text-align: right;\n",
       "    }\n",
       "</style>\n",
       "<table border=\"1\" class=\"dataframe\">\n",
       "  <thead>\n",
       "    <tr style=\"text-align: right;\">\n",
       "      <th></th>\n",
       "      <th>ID</th>\n",
       "      <th>Nome do Paciente</th>\n",
       "      <th>Nome do Tutor</th>\n",
       "      <th>Espécie</th>\n",
       "      <th>Raça</th>\n",
       "      <th>Regiao</th>\n",
       "      <th>Posicionamentos</th>\n",
       "      <th>Laudo</th>\n",
       "      <th>Todos Exames</th>\n",
       "      <th>Numero de Projeções</th>\n",
       "      <th>...</th>\n",
       "      <th>Imagens</th>\n",
       "      <th>Idade (meses)</th>\n",
       "      <th>lista de imagens</th>\n",
       "      <th>quantidade de imagens</th>\n",
       "      <th>Laudo Alterado</th>\n",
       "      <th>Exames Separados</th>\n",
       "      <th>Primeira Região</th>\n",
       "      <th>Segunda Região</th>\n",
       "      <th>Terceira Região</th>\n",
       "      <th>Quarta Região</th>\n",
       "    </tr>\n",
       "  </thead>\n",
       "  <tbody>\n",
       "    <tr>\n",
       "      <th>0</th>\n",
       "      <td>1</td>\n",
       "      <td>BALTAZAR</td>\n",
       "      <td>ANDRESSA</td>\n",
       "      <td>CANINO</td>\n",
       "      <td>CAVALIER KING CHARLES</td>\n",
       "      <td>Coluna vertebral (segmento cervicotorácica e t...</td>\n",
       "      <td>Laterolateral (decúbito lateral direito) e ven...</td>\n",
       "      <td>Diminuição do espaço intervertebral entre T11-...</td>\n",
       "      <td>COLUNA</td>\n",
       "      <td>5P</td>\n",
       "      <td>...</td>\n",
       "      <td>001_BALTAZAR ANDRESSA 12 anos 17225 29_04_2025...</td>\n",
       "      <td>144</td>\n",
       "      <td>[001_BALTAZAR ANDRESSA 12 anos 17225 29_04_202...</td>\n",
       "      <td>5</td>\n",
       "      <td>0</td>\n",
       "      <td>[COLUNA]</td>\n",
       "      <td>COLUNA</td>\n",
       "      <td>None</td>\n",
       "      <td>None</td>\n",
       "      <td>None</td>\n",
       "    </tr>\n",
       "    <tr>\n",
       "      <th>1</th>\n",
       "      <td>2</td>\n",
       "      <td>ESMERALDA</td>\n",
       "      <td>WILLIAN</td>\n",
       "      <td>FELINO</td>\n",
       "      <td>SRD</td>\n",
       "      <td>Tórax</td>\n",
       "      <td>Laterolateral direita, esquerda e ventrodorsal</td>\n",
       "      <td>Sem evidências de nódulos no parênquima pulmon...</td>\n",
       "      <td>TORAX</td>\n",
       "      <td>3P</td>\n",
       "      <td>...</td>\n",
       "      <td>002_ESMERALDA WILLIAN 14 anos 17185 28_04_2025...</td>\n",
       "      <td>168</td>\n",
       "      <td>[002_ESMERALDA WILLIAN 14 anos 17185 28_04_202...</td>\n",
       "      <td>3</td>\n",
       "      <td>1</td>\n",
       "      <td>[TORAX]</td>\n",
       "      <td>TORAX</td>\n",
       "      <td>None</td>\n",
       "      <td>None</td>\n",
       "      <td>None</td>\n",
       "    </tr>\n",
       "    <tr>\n",
       "      <th>2</th>\n",
       "      <td>3</td>\n",
       "      <td>LUNA</td>\n",
       "      <td>RENATA</td>\n",
       "      <td>CANINO</td>\n",
       "      <td>CANE CORSO</td>\n",
       "      <td>membro torácico esquerdo (membro direito para ...</td>\n",
       "      <td>mediolateral e dorsopalmar.</td>\n",
       "      <td>-proliferação óssea sólida e regular adjacente...</td>\n",
       "      <td>MTE + CONTRA</td>\n",
       "      <td>4P</td>\n",
       "      <td>...</td>\n",
       "      <td>003_LUNA RENATA 10 anos 17231 29_04_2025_pg2_i...</td>\n",
       "      <td>120</td>\n",
       "      <td>[003_LUNA RENATA 10 anos 17231 29_04_2025_pg2_...</td>\n",
       "      <td>4</td>\n",
       "      <td>1</td>\n",
       "      <td>[MTE, CONTRA]</td>\n",
       "      <td>MTE</td>\n",
       "      <td>CONTRA</td>\n",
       "      <td>None</td>\n",
       "      <td>None</td>\n",
       "    </tr>\n",
       "    <tr>\n",
       "      <th>3</th>\n",
       "      <td>4</td>\n",
       "      <td>MALTA</td>\n",
       "      <td>GUILHERME</td>\n",
       "      <td>CANINO</td>\n",
       "      <td>DUSCHUND</td>\n",
       "      <td>Tórax e coluna vertebral (segmento coccígeo)</td>\n",
       "      <td>Laterolateral direita, esquerda e ventrodorsal</td>\n",
       "      <td>- Tórax: Opacificação pulmonar generalizada de...</td>\n",
       "      <td>TORAX + CAUDA</td>\n",
       "      <td>6P</td>\n",
       "      <td>...</td>\n",
       "      <td>004_MALTA GUILHERME 7 anos 17230 29_04_2025_pg...</td>\n",
       "      <td>84</td>\n",
       "      <td>[004_MALTA GUILHERME 7 anos 17230 29_04_2025_p...</td>\n",
       "      <td>6</td>\n",
       "      <td>1</td>\n",
       "      <td>[TORAX, CAUDA]</td>\n",
       "      <td>TORAX</td>\n",
       "      <td>CAUDA</td>\n",
       "      <td>None</td>\n",
       "      <td>None</td>\n",
       "    </tr>\n",
       "    <tr>\n",
       "      <th>4</th>\n",
       "      <td>5</td>\n",
       "      <td>AIRAM</td>\n",
       "      <td>WALTON</td>\n",
       "      <td>FELINO</td>\n",
       "      <td>SRD</td>\n",
       "      <td>Abdômen</td>\n",
       "      <td>Laterolateral (decúbito lateral direito e esqu...</td>\n",
       "      <td>Maior homogeneidade em cavidade abdominal. Vis...</td>\n",
       "      <td>ABDOME</td>\n",
       "      <td>3P</td>\n",
       "      <td>...</td>\n",
       "      <td>005_AIRAM WALTON 2 meses 17191 28_04_2025_pg2_...</td>\n",
       "      <td>2</td>\n",
       "      <td>[005_AIRAM WALTON 2 meses 17191 28_04_2025_pg2...</td>\n",
       "      <td>3</td>\n",
       "      <td>0</td>\n",
       "      <td>[ABDOME]</td>\n",
       "      <td>ABDOME</td>\n",
       "      <td>None</td>\n",
       "      <td>None</td>\n",
       "      <td>None</td>\n",
       "    </tr>\n",
       "    <tr>\n",
       "      <th>5</th>\n",
       "      <td>6</td>\n",
       "      <td>JUJUBA</td>\n",
       "      <td>MARCELO</td>\n",
       "      <td>FELINO</td>\n",
       "      <td>SIAMES</td>\n",
       "      <td>REGIÃO: Tórax.</td>\n",
       "      <td>PROJEÇÕES: Laterolateral (decúbito direito e e...</td>\n",
       "      <td>Achados Radiográficos Campos pulmonares aprese...</td>\n",
       "      <td>TORAX</td>\n",
       "      <td>3P</td>\n",
       "      <td>...</td>\n",
       "      <td>006_JUJUBA MARCELO 11 anos 17064 26_04_2025_pg...</td>\n",
       "      <td>132</td>\n",
       "      <td>[006_JUJUBA MARCELO 11 anos 17064 26_04_2025_p...</td>\n",
       "      <td>3</td>\n",
       "      <td>1</td>\n",
       "      <td>[TORAX]</td>\n",
       "      <td>TORAX</td>\n",
       "      <td>None</td>\n",
       "      <td>None</td>\n",
       "      <td>None</td>\n",
       "    </tr>\n",
       "    <tr>\n",
       "      <th>6</th>\n",
       "      <td>7</td>\n",
       "      <td>LAURA</td>\n",
       "      <td>ONELI</td>\n",
       "      <td>CANINO</td>\n",
       "      <td>PINSCHER</td>\n",
       "      <td>Cervical (partes moles)</td>\n",
       "      <td>Laterolateral e tangencial</td>\n",
       "      <td>Segmento vertebral cervical sem alterações rad...</td>\n",
       "      <td>TRAQUEIA</td>\n",
       "      <td>3P</td>\n",
       "      <td>...</td>\n",
       "      <td>007_LAURA ONELI 6 anos 16026 01_04_2025_pg2_im...</td>\n",
       "      <td>72</td>\n",
       "      <td>[007_LAURA ONELI 6 anos 16026 01_04_2025_pg2_i...</td>\n",
       "      <td>3</td>\n",
       "      <td>1</td>\n",
       "      <td>[TRAQUEIA]</td>\n",
       "      <td>TRAQUEIA</td>\n",
       "      <td>None</td>\n",
       "      <td>None</td>\n",
       "      <td>None</td>\n",
       "    </tr>\n",
       "    <tr>\n",
       "      <th>7</th>\n",
       "      <td>8</td>\n",
       "      <td>VIDA</td>\n",
       "      <td>YURI</td>\n",
       "      <td>FELINO</td>\n",
       "      <td>TRICOLOR</td>\n",
       "      <td>Abdômen</td>\n",
       "      <td>Laterolateral (decúbito lateral direito e esqu...</td>\n",
       "      <td>Estruturas fetais parcialmente mineralizadas e...</td>\n",
       "      <td>ABDOMEN</td>\n",
       "      <td>3P</td>\n",
       "      <td>...</td>\n",
       "      <td>008_VIDA YURI 6 meses 17279 30_04_2025_pg2_img...</td>\n",
       "      <td>6</td>\n",
       "      <td>[008_VIDA YURI 6 meses 17279 30_04_2025_pg2_im...</td>\n",
       "      <td>3</td>\n",
       "      <td>0</td>\n",
       "      <td>[ABDOMEN]</td>\n",
       "      <td>ABDOMEN</td>\n",
       "      <td>None</td>\n",
       "      <td>None</td>\n",
       "      <td>None</td>\n",
       "    </tr>\n",
       "    <tr>\n",
       "      <th>8</th>\n",
       "      <td>9</td>\n",
       "      <td>SIMBA</td>\n",
       "      <td>MORGANA</td>\n",
       "      <td>CANINO</td>\n",
       "      <td>ROTWEILLER</td>\n",
       "      <td>membro torácico esquerdo (membro direito para ...</td>\n",
       "      <td>mediolateral e dorsopalmar.</td>\n",
       "      <td>-lesão óssea agressiva mista, predominentement...</td>\n",
       "      <td>MTE + CONTRA</td>\n",
       "      <td>4P</td>\n",
       "      <td>...</td>\n",
       "      <td>009_SIMBA MORGANA 9 anos 17223 30_04_2025_pg2_...</td>\n",
       "      <td>108</td>\n",
       "      <td>[009_SIMBA MORGANA 9 anos 17223 30_04_2025_pg2...</td>\n",
       "      <td>4</td>\n",
       "      <td>1</td>\n",
       "      <td>[MTE, CONTRA]</td>\n",
       "      <td>MTE</td>\n",
       "      <td>CONTRA</td>\n",
       "      <td>None</td>\n",
       "      <td>None</td>\n",
       "    </tr>\n",
       "    <tr>\n",
       "      <th>9</th>\n",
       "      <td>10</td>\n",
       "      <td>CLEO</td>\n",
       "      <td>PAULA</td>\n",
       "      <td>CANINO</td>\n",
       "      <td>LHASA</td>\n",
       "      <td>Tórax</td>\n",
       "      <td>Laterolateral (decúbito lateral direito e esqu...</td>\n",
       "      <td>Discreta incisura interlobar sobrepondo a silh...</td>\n",
       "      <td>TORAX</td>\n",
       "      <td>4P</td>\n",
       "      <td>...</td>\n",
       "      <td>010_CLEO PAULA 9 anos 17304 30_04_2025_pg2_img...</td>\n",
       "      <td>108</td>\n",
       "      <td>[010_CLEO PAULA 9 anos 17304 30_04_2025_pg2_im...</td>\n",
       "      <td>4</td>\n",
       "      <td>1</td>\n",
       "      <td>[TORAX]</td>\n",
       "      <td>TORAX</td>\n",
       "      <td>None</td>\n",
       "      <td>None</td>\n",
       "      <td>None</td>\n",
       "    </tr>\n",
       "  </tbody>\n",
       "</table>\n",
       "<p>10 rows × 21 columns</p>\n",
       "</div>"
      ],
      "text/plain": [
       "   ID Nome do Paciente Nome do Tutor Espécie                   Raça  \\\n",
       "0   1         BALTAZAR      ANDRESSA  CANINO  CAVALIER KING CHARLES   \n",
       "1   2        ESMERALDA       WILLIAN  FELINO                    SRD   \n",
       "2   3             LUNA        RENATA  CANINO             CANE CORSO   \n",
       "3   4            MALTA     GUILHERME  CANINO               DUSCHUND   \n",
       "4   5            AIRAM        WALTON  FELINO                    SRD   \n",
       "5   6           JUJUBA       MARCELO  FELINO                 SIAMES   \n",
       "6   7            LAURA         ONELI  CANINO               PINSCHER   \n",
       "7   8             VIDA          YURI  FELINO               TRICOLOR   \n",
       "8   9            SIMBA       MORGANA  CANINO             ROTWEILLER   \n",
       "9  10             CLEO         PAULA  CANINO                  LHASA   \n",
       "\n",
       "                                              Regiao  \\\n",
       "0  Coluna vertebral (segmento cervicotorácica e t...   \n",
       "1                                              Tórax   \n",
       "2  membro torácico esquerdo (membro direito para ...   \n",
       "3       Tórax e coluna vertebral (segmento coccígeo)   \n",
       "4                                            Abdômen   \n",
       "5                                     REGIÃO: Tórax.   \n",
       "6                            Cervical (partes moles)   \n",
       "7                                            Abdômen   \n",
       "8  membro torácico esquerdo (membro direito para ...   \n",
       "9                                              Tórax   \n",
       "\n",
       "                                     Posicionamentos  \\\n",
       "0  Laterolateral (decúbito lateral direito) e ven...   \n",
       "1     Laterolateral direita, esquerda e ventrodorsal   \n",
       "2                        mediolateral e dorsopalmar.   \n",
       "3     Laterolateral direita, esquerda e ventrodorsal   \n",
       "4  Laterolateral (decúbito lateral direito e esqu...   \n",
       "5  PROJEÇÕES: Laterolateral (decúbito direito e e...   \n",
       "6                         Laterolateral e tangencial   \n",
       "7  Laterolateral (decúbito lateral direito e esqu...   \n",
       "8                        mediolateral e dorsopalmar.   \n",
       "9  Laterolateral (decúbito lateral direito e esqu...   \n",
       "\n",
       "                                               Laudo   Todos Exames  \\\n",
       "0  Diminuição do espaço intervertebral entre T11-...         COLUNA   \n",
       "1  Sem evidências de nódulos no parênquima pulmon...          TORAX   \n",
       "2  -proliferação óssea sólida e regular adjacente...   MTE + CONTRA   \n",
       "3  - Tórax: Opacificação pulmonar generalizada de...  TORAX + CAUDA   \n",
       "4  Maior homogeneidade em cavidade abdominal. Vis...         ABDOME   \n",
       "5  Achados Radiográficos Campos pulmonares aprese...          TORAX   \n",
       "6  Segmento vertebral cervical sem alterações rad...       TRAQUEIA   \n",
       "7  Estruturas fetais parcialmente mineralizadas e...        ABDOMEN   \n",
       "8  -lesão óssea agressiva mista, predominentement...   MTE + CONTRA   \n",
       "9  Discreta incisura interlobar sobrepondo a silh...          TORAX   \n",
       "\n",
       "  Numero de Projeções  ...                                            Imagens  \\\n",
       "0                  5P  ...  001_BALTAZAR ANDRESSA 12 anos 17225 29_04_2025...   \n",
       "1                  3P  ...  002_ESMERALDA WILLIAN 14 anos 17185 28_04_2025...   \n",
       "2                  4P  ...  003_LUNA RENATA 10 anos 17231 29_04_2025_pg2_i...   \n",
       "3                  6P  ...  004_MALTA GUILHERME 7 anos 17230 29_04_2025_pg...   \n",
       "4                  3P  ...  005_AIRAM WALTON 2 meses 17191 28_04_2025_pg2_...   \n",
       "5                  3P  ...  006_JUJUBA MARCELO 11 anos 17064 26_04_2025_pg...   \n",
       "6                  3P  ...  007_LAURA ONELI 6 anos 16026 01_04_2025_pg2_im...   \n",
       "7                  3P  ...  008_VIDA YURI 6 meses 17279 30_04_2025_pg2_img...   \n",
       "8                  4P  ...  009_SIMBA MORGANA 9 anos 17223 30_04_2025_pg2_...   \n",
       "9                  4P  ...  010_CLEO PAULA 9 anos 17304 30_04_2025_pg2_img...   \n",
       "\n",
       "  Idade (meses)                                   lista de imagens  \\\n",
       "0           144  [001_BALTAZAR ANDRESSA 12 anos 17225 29_04_202...   \n",
       "1           168  [002_ESMERALDA WILLIAN 14 anos 17185 28_04_202...   \n",
       "2           120  [003_LUNA RENATA 10 anos 17231 29_04_2025_pg2_...   \n",
       "3            84  [004_MALTA GUILHERME 7 anos 17230 29_04_2025_p...   \n",
       "4             2  [005_AIRAM WALTON 2 meses 17191 28_04_2025_pg2...   \n",
       "5           132  [006_JUJUBA MARCELO 11 anos 17064 26_04_2025_p...   \n",
       "6            72  [007_LAURA ONELI 6 anos 16026 01_04_2025_pg2_i...   \n",
       "7             6  [008_VIDA YURI 6 meses 17279 30_04_2025_pg2_im...   \n",
       "8           108  [009_SIMBA MORGANA 9 anos 17223 30_04_2025_pg2...   \n",
       "9           108  [010_CLEO PAULA 9 anos 17304 30_04_2025_pg2_im...   \n",
       "\n",
       "  quantidade de imagens  Laudo Alterado  Exames Separados Primeira Região  \\\n",
       "0                     5               0          [COLUNA]          COLUNA   \n",
       "1                     3               1           [TORAX]           TORAX   \n",
       "2                     4               1     [MTE, CONTRA]             MTE   \n",
       "3                     6               1    [TORAX, CAUDA]           TORAX   \n",
       "4                     3               0          [ABDOME]          ABDOME   \n",
       "5                     3               1           [TORAX]           TORAX   \n",
       "6                     3               1        [TRAQUEIA]        TRAQUEIA   \n",
       "7                     3               0         [ABDOMEN]         ABDOMEN   \n",
       "8                     4               1     [MTE, CONTRA]             MTE   \n",
       "9                     4               1           [TORAX]           TORAX   \n",
       "\n",
       "  Segunda Região Terceira Região Quarta Região  \n",
       "0           None            None          None  \n",
       "1           None            None          None  \n",
       "2         CONTRA            None          None  \n",
       "3          CAUDA            None          None  \n",
       "4           None            None          None  \n",
       "5           None            None          None  \n",
       "6           None            None          None  \n",
       "7           None            None          None  \n",
       "8         CONTRA            None          None  \n",
       "9           None            None          None  \n",
       "\n",
       "[10 rows x 21 columns]"
      ]
     },
     "execution_count": 384,
     "metadata": {},
     "output_type": "execute_result"
    }
   ],
   "source": [
    "df.head(10)"
   ]
  },
  {
   "cell_type": "code",
   "execution_count": 385,
   "id": "dbe8e567",
   "metadata": {},
   "outputs": [
    {
     "data": {
      "text/html": [
       "<div>\n",
       "<style scoped>\n",
       "    .dataframe tbody tr th:only-of-type {\n",
       "        vertical-align: middle;\n",
       "    }\n",
       "\n",
       "    .dataframe tbody tr th {\n",
       "        vertical-align: top;\n",
       "    }\n",
       "\n",
       "    .dataframe thead th {\n",
       "        text-align: right;\n",
       "    }\n",
       "</style>\n",
       "<table border=\"1\" class=\"dataframe\">\n",
       "  <thead>\n",
       "    <tr style=\"text-align: right;\">\n",
       "      <th></th>\n",
       "      <th>ID</th>\n",
       "      <th>Nome do Paciente</th>\n",
       "      <th>Nome do Tutor</th>\n",
       "      <th>Espécie</th>\n",
       "      <th>Raça</th>\n",
       "      <th>Regiao</th>\n",
       "      <th>Posicionamentos</th>\n",
       "      <th>Laudo</th>\n",
       "      <th>Todos Exames</th>\n",
       "      <th>Numero de Projeções</th>\n",
       "      <th>...</th>\n",
       "      <th>Imagens</th>\n",
       "      <th>Idade (meses)</th>\n",
       "      <th>lista de imagens</th>\n",
       "      <th>quantidade de imagens</th>\n",
       "      <th>Laudo Alterado</th>\n",
       "      <th>Exames Separados</th>\n",
       "      <th>Primeira Região</th>\n",
       "      <th>Segunda Região</th>\n",
       "      <th>Terceira Região</th>\n",
       "      <th>Quarta Região</th>\n",
       "    </tr>\n",
       "  </thead>\n",
       "  <tbody>\n",
       "    <tr>\n",
       "      <th>0</th>\n",
       "      <td>1</td>\n",
       "      <td>BALTAZAR</td>\n",
       "      <td>ANDRESSA</td>\n",
       "      <td>CANINO</td>\n",
       "      <td>CAVALIER KING CHARLES</td>\n",
       "      <td>Coluna vertebral (segmento cervicotorácica e t...</td>\n",
       "      <td>Laterolateral (decúbito lateral direito) e ven...</td>\n",
       "      <td>Diminuição do espaço intervertebral entre T11-...</td>\n",
       "      <td>COLUNA</td>\n",
       "      <td>5P</td>\n",
       "      <td>...</td>\n",
       "      <td>001_BALTAZAR ANDRESSA 12 anos 17225 29_04_2025...</td>\n",
       "      <td>144</td>\n",
       "      <td>[001_BALTAZAR ANDRESSA 12 anos 17225 29_04_202...</td>\n",
       "      <td>5</td>\n",
       "      <td>0</td>\n",
       "      <td>[COLUNA]</td>\n",
       "      <td>COLUNA</td>\n",
       "      <td>None</td>\n",
       "      <td>None</td>\n",
       "      <td>None</td>\n",
       "    </tr>\n",
       "    <tr>\n",
       "      <th>1</th>\n",
       "      <td>2</td>\n",
       "      <td>ESMERALDA</td>\n",
       "      <td>WILLIAN</td>\n",
       "      <td>FELINO</td>\n",
       "      <td>SRD</td>\n",
       "      <td>Tórax</td>\n",
       "      <td>Laterolateral direita, esquerda e ventrodorsal</td>\n",
       "      <td>Sem evidências de nódulos no parênquima pulmon...</td>\n",
       "      <td>TORAX</td>\n",
       "      <td>3P</td>\n",
       "      <td>...</td>\n",
       "      <td>002_ESMERALDA WILLIAN 14 anos 17185 28_04_2025...</td>\n",
       "      <td>168</td>\n",
       "      <td>[002_ESMERALDA WILLIAN 14 anos 17185 28_04_202...</td>\n",
       "      <td>3</td>\n",
       "      <td>1</td>\n",
       "      <td>[TORAX]</td>\n",
       "      <td>TORAX</td>\n",
       "      <td>None</td>\n",
       "      <td>None</td>\n",
       "      <td>None</td>\n",
       "    </tr>\n",
       "    <tr>\n",
       "      <th>2</th>\n",
       "      <td>3</td>\n",
       "      <td>LUNA</td>\n",
       "      <td>RENATA</td>\n",
       "      <td>CANINO</td>\n",
       "      <td>CANE CORSO</td>\n",
       "      <td>membro torácico esquerdo (membro direito para ...</td>\n",
       "      <td>mediolateral e dorsopalmar.</td>\n",
       "      <td>-proliferação óssea sólida e regular adjacente...</td>\n",
       "      <td>MTE + CONTRA</td>\n",
       "      <td>4P</td>\n",
       "      <td>...</td>\n",
       "      <td>003_LUNA RENATA 10 anos 17231 29_04_2025_pg2_i...</td>\n",
       "      <td>120</td>\n",
       "      <td>[003_LUNA RENATA 10 anos 17231 29_04_2025_pg2_...</td>\n",
       "      <td>4</td>\n",
       "      <td>1</td>\n",
       "      <td>[MTE, CONTRA]</td>\n",
       "      <td>MTE</td>\n",
       "      <td>CONTRA</td>\n",
       "      <td>None</td>\n",
       "      <td>None</td>\n",
       "    </tr>\n",
       "    <tr>\n",
       "      <th>3</th>\n",
       "      <td>4</td>\n",
       "      <td>MALTA</td>\n",
       "      <td>GUILHERME</td>\n",
       "      <td>CANINO</td>\n",
       "      <td>DUSCHUND</td>\n",
       "      <td>Tórax e coluna vertebral (segmento coccígeo)</td>\n",
       "      <td>Laterolateral direita, esquerda e ventrodorsal</td>\n",
       "      <td>- Tórax: Opacificação pulmonar generalizada de...</td>\n",
       "      <td>TORAX + CAUDA</td>\n",
       "      <td>6P</td>\n",
       "      <td>...</td>\n",
       "      <td>004_MALTA GUILHERME 7 anos 17230 29_04_2025_pg...</td>\n",
       "      <td>84</td>\n",
       "      <td>[004_MALTA GUILHERME 7 anos 17230 29_04_2025_p...</td>\n",
       "      <td>6</td>\n",
       "      <td>1</td>\n",
       "      <td>[TORAX, CAUDA]</td>\n",
       "      <td>TORAX</td>\n",
       "      <td>CAUDA</td>\n",
       "      <td>None</td>\n",
       "      <td>None</td>\n",
       "    </tr>\n",
       "    <tr>\n",
       "      <th>4</th>\n",
       "      <td>5</td>\n",
       "      <td>AIRAM</td>\n",
       "      <td>WALTON</td>\n",
       "      <td>FELINO</td>\n",
       "      <td>SRD</td>\n",
       "      <td>Abdômen</td>\n",
       "      <td>Laterolateral (decúbito lateral direito e esqu...</td>\n",
       "      <td>Maior homogeneidade em cavidade abdominal. Vis...</td>\n",
       "      <td>ABDOME</td>\n",
       "      <td>3P</td>\n",
       "      <td>...</td>\n",
       "      <td>005_AIRAM WALTON 2 meses 17191 28_04_2025_pg2_...</td>\n",
       "      <td>2</td>\n",
       "      <td>[005_AIRAM WALTON 2 meses 17191 28_04_2025_pg2...</td>\n",
       "      <td>3</td>\n",
       "      <td>0</td>\n",
       "      <td>[ABDOME]</td>\n",
       "      <td>ABDOME</td>\n",
       "      <td>None</td>\n",
       "      <td>None</td>\n",
       "      <td>None</td>\n",
       "    </tr>\n",
       "    <tr>\n",
       "      <th>5</th>\n",
       "      <td>6</td>\n",
       "      <td>JUJUBA</td>\n",
       "      <td>MARCELO</td>\n",
       "      <td>FELINO</td>\n",
       "      <td>SIAMES</td>\n",
       "      <td>REGIÃO: Tórax.</td>\n",
       "      <td>PROJEÇÕES: Laterolateral (decúbito direito e e...</td>\n",
       "      <td>Achados Radiográficos Campos pulmonares aprese...</td>\n",
       "      <td>TORAX</td>\n",
       "      <td>3P</td>\n",
       "      <td>...</td>\n",
       "      <td>006_JUJUBA MARCELO 11 anos 17064 26_04_2025_pg...</td>\n",
       "      <td>132</td>\n",
       "      <td>[006_JUJUBA MARCELO 11 anos 17064 26_04_2025_p...</td>\n",
       "      <td>3</td>\n",
       "      <td>1</td>\n",
       "      <td>[TORAX]</td>\n",
       "      <td>TORAX</td>\n",
       "      <td>None</td>\n",
       "      <td>None</td>\n",
       "      <td>None</td>\n",
       "    </tr>\n",
       "    <tr>\n",
       "      <th>6</th>\n",
       "      <td>7</td>\n",
       "      <td>LAURA</td>\n",
       "      <td>ONELI</td>\n",
       "      <td>CANINO</td>\n",
       "      <td>PINSCHER</td>\n",
       "      <td>Cervical (partes moles)</td>\n",
       "      <td>Laterolateral e tangencial</td>\n",
       "      <td>Segmento vertebral cervical sem alterações rad...</td>\n",
       "      <td>TRAQUEIA</td>\n",
       "      <td>3P</td>\n",
       "      <td>...</td>\n",
       "      <td>007_LAURA ONELI 6 anos 16026 01_04_2025_pg2_im...</td>\n",
       "      <td>72</td>\n",
       "      <td>[007_LAURA ONELI 6 anos 16026 01_04_2025_pg2_i...</td>\n",
       "      <td>3</td>\n",
       "      <td>1</td>\n",
       "      <td>[TRAQUEIA]</td>\n",
       "      <td>TRAQUEIA</td>\n",
       "      <td>None</td>\n",
       "      <td>None</td>\n",
       "      <td>None</td>\n",
       "    </tr>\n",
       "    <tr>\n",
       "      <th>7</th>\n",
       "      <td>8</td>\n",
       "      <td>VIDA</td>\n",
       "      <td>YURI</td>\n",
       "      <td>FELINO</td>\n",
       "      <td>TRICOLOR</td>\n",
       "      <td>Abdômen</td>\n",
       "      <td>Laterolateral (decúbito lateral direito e esqu...</td>\n",
       "      <td>Estruturas fetais parcialmente mineralizadas e...</td>\n",
       "      <td>ABDOMEN</td>\n",
       "      <td>3P</td>\n",
       "      <td>...</td>\n",
       "      <td>008_VIDA YURI 6 meses 17279 30_04_2025_pg2_img...</td>\n",
       "      <td>6</td>\n",
       "      <td>[008_VIDA YURI 6 meses 17279 30_04_2025_pg2_im...</td>\n",
       "      <td>3</td>\n",
       "      <td>0</td>\n",
       "      <td>[ABDOMEN]</td>\n",
       "      <td>ABDOMEN</td>\n",
       "      <td>None</td>\n",
       "      <td>None</td>\n",
       "      <td>None</td>\n",
       "    </tr>\n",
       "    <tr>\n",
       "      <th>8</th>\n",
       "      <td>9</td>\n",
       "      <td>SIMBA</td>\n",
       "      <td>MORGANA</td>\n",
       "      <td>CANINO</td>\n",
       "      <td>ROTWEILLER</td>\n",
       "      <td>membro torácico esquerdo (membro direito para ...</td>\n",
       "      <td>mediolateral e dorsopalmar.</td>\n",
       "      <td>-lesão óssea agressiva mista, predominentement...</td>\n",
       "      <td>MTE + CONTRA</td>\n",
       "      <td>4P</td>\n",
       "      <td>...</td>\n",
       "      <td>009_SIMBA MORGANA 9 anos 17223 30_04_2025_pg2_...</td>\n",
       "      <td>108</td>\n",
       "      <td>[009_SIMBA MORGANA 9 anos 17223 30_04_2025_pg2...</td>\n",
       "      <td>4</td>\n",
       "      <td>1</td>\n",
       "      <td>[MTE, CONTRA]</td>\n",
       "      <td>MTE</td>\n",
       "      <td>CONTRA</td>\n",
       "      <td>None</td>\n",
       "      <td>None</td>\n",
       "    </tr>\n",
       "    <tr>\n",
       "      <th>9</th>\n",
       "      <td>10</td>\n",
       "      <td>CLEO</td>\n",
       "      <td>PAULA</td>\n",
       "      <td>CANINO</td>\n",
       "      <td>LHASA</td>\n",
       "      <td>Tórax</td>\n",
       "      <td>Laterolateral (decúbito lateral direito e esqu...</td>\n",
       "      <td>Discreta incisura interlobar sobrepondo a silh...</td>\n",
       "      <td>TORAX</td>\n",
       "      <td>4P</td>\n",
       "      <td>...</td>\n",
       "      <td>010_CLEO PAULA 9 anos 17304 30_04_2025_pg2_img...</td>\n",
       "      <td>108</td>\n",
       "      <td>[010_CLEO PAULA 9 anos 17304 30_04_2025_pg2_im...</td>\n",
       "      <td>4</td>\n",
       "      <td>1</td>\n",
       "      <td>[TORAX]</td>\n",
       "      <td>TORAX</td>\n",
       "      <td>None</td>\n",
       "      <td>None</td>\n",
       "      <td>None</td>\n",
       "    </tr>\n",
       "  </tbody>\n",
       "</table>\n",
       "<p>10 rows × 21 columns</p>\n",
       "</div>"
      ],
      "text/plain": [
       "   ID Nome do Paciente Nome do Tutor Espécie                   Raça  \\\n",
       "0   1         BALTAZAR      ANDRESSA  CANINO  CAVALIER KING CHARLES   \n",
       "1   2        ESMERALDA       WILLIAN  FELINO                    SRD   \n",
       "2   3             LUNA        RENATA  CANINO             CANE CORSO   \n",
       "3   4            MALTA     GUILHERME  CANINO               DUSCHUND   \n",
       "4   5            AIRAM        WALTON  FELINO                    SRD   \n",
       "5   6           JUJUBA       MARCELO  FELINO                 SIAMES   \n",
       "6   7            LAURA         ONELI  CANINO               PINSCHER   \n",
       "7   8             VIDA          YURI  FELINO               TRICOLOR   \n",
       "8   9            SIMBA       MORGANA  CANINO             ROTWEILLER   \n",
       "9  10             CLEO         PAULA  CANINO                  LHASA   \n",
       "\n",
       "                                              Regiao  \\\n",
       "0  Coluna vertebral (segmento cervicotorácica e t...   \n",
       "1                                              Tórax   \n",
       "2  membro torácico esquerdo (membro direito para ...   \n",
       "3       Tórax e coluna vertebral (segmento coccígeo)   \n",
       "4                                            Abdômen   \n",
       "5                                     REGIÃO: Tórax.   \n",
       "6                            Cervical (partes moles)   \n",
       "7                                            Abdômen   \n",
       "8  membro torácico esquerdo (membro direito para ...   \n",
       "9                                              Tórax   \n",
       "\n",
       "                                     Posicionamentos  \\\n",
       "0  Laterolateral (decúbito lateral direito) e ven...   \n",
       "1     Laterolateral direita, esquerda e ventrodorsal   \n",
       "2                        mediolateral e dorsopalmar.   \n",
       "3     Laterolateral direita, esquerda e ventrodorsal   \n",
       "4  Laterolateral (decúbito lateral direito e esqu...   \n",
       "5  PROJEÇÕES: Laterolateral (decúbito direito e e...   \n",
       "6                         Laterolateral e tangencial   \n",
       "7  Laterolateral (decúbito lateral direito e esqu...   \n",
       "8                        mediolateral e dorsopalmar.   \n",
       "9  Laterolateral (decúbito lateral direito e esqu...   \n",
       "\n",
       "                                               Laudo   Todos Exames  \\\n",
       "0  Diminuição do espaço intervertebral entre T11-...         COLUNA   \n",
       "1  Sem evidências de nódulos no parênquima pulmon...          TORAX   \n",
       "2  -proliferação óssea sólida e regular adjacente...   MTE + CONTRA   \n",
       "3  - Tórax: Opacificação pulmonar generalizada de...  TORAX + CAUDA   \n",
       "4  Maior homogeneidade em cavidade abdominal. Vis...         ABDOME   \n",
       "5  Achados Radiográficos Campos pulmonares aprese...          TORAX   \n",
       "6  Segmento vertebral cervical sem alterações rad...       TRAQUEIA   \n",
       "7  Estruturas fetais parcialmente mineralizadas e...        ABDOMEN   \n",
       "8  -lesão óssea agressiva mista, predominentement...   MTE + CONTRA   \n",
       "9  Discreta incisura interlobar sobrepondo a silh...          TORAX   \n",
       "\n",
       "  Numero de Projeções  ...                                            Imagens  \\\n",
       "0                  5P  ...  001_BALTAZAR ANDRESSA 12 anos 17225 29_04_2025...   \n",
       "1                  3P  ...  002_ESMERALDA WILLIAN 14 anos 17185 28_04_2025...   \n",
       "2                  4P  ...  003_LUNA RENATA 10 anos 17231 29_04_2025_pg2_i...   \n",
       "3                  6P  ...  004_MALTA GUILHERME 7 anos 17230 29_04_2025_pg...   \n",
       "4                  3P  ...  005_AIRAM WALTON 2 meses 17191 28_04_2025_pg2_...   \n",
       "5                  3P  ...  006_JUJUBA MARCELO 11 anos 17064 26_04_2025_pg...   \n",
       "6                  3P  ...  007_LAURA ONELI 6 anos 16026 01_04_2025_pg2_im...   \n",
       "7                  3P  ...  008_VIDA YURI 6 meses 17279 30_04_2025_pg2_img...   \n",
       "8                  4P  ...  009_SIMBA MORGANA 9 anos 17223 30_04_2025_pg2_...   \n",
       "9                  4P  ...  010_CLEO PAULA 9 anos 17304 30_04_2025_pg2_img...   \n",
       "\n",
       "  Idade (meses)                                   lista de imagens  \\\n",
       "0           144  [001_BALTAZAR ANDRESSA 12 anos 17225 29_04_202...   \n",
       "1           168  [002_ESMERALDA WILLIAN 14 anos 17185 28_04_202...   \n",
       "2           120  [003_LUNA RENATA 10 anos 17231 29_04_2025_pg2_...   \n",
       "3            84  [004_MALTA GUILHERME 7 anos 17230 29_04_2025_p...   \n",
       "4             2  [005_AIRAM WALTON 2 meses 17191 28_04_2025_pg2...   \n",
       "5           132  [006_JUJUBA MARCELO 11 anos 17064 26_04_2025_p...   \n",
       "6            72  [007_LAURA ONELI 6 anos 16026 01_04_2025_pg2_i...   \n",
       "7             6  [008_VIDA YURI 6 meses 17279 30_04_2025_pg2_im...   \n",
       "8           108  [009_SIMBA MORGANA 9 anos 17223 30_04_2025_pg2...   \n",
       "9           108  [010_CLEO PAULA 9 anos 17304 30_04_2025_pg2_im...   \n",
       "\n",
       "  quantidade de imagens  Laudo Alterado  Exames Separados Primeira Região  \\\n",
       "0                     5               0          [COLUNA]          COLUNA   \n",
       "1                     3               1           [TORAX]           TORAX   \n",
       "2                     4               1     [MTE, CONTRA]             MTE   \n",
       "3                     6               1    [TORAX, CAUDA]           TORAX   \n",
       "4                     3               0          [ABDOME]          ABDOME   \n",
       "5                     3               1           [TORAX]           TORAX   \n",
       "6                     3               1        [TRAQUEIA]        TRAQUEIA   \n",
       "7                     3               0         [ABDOMEN]         ABDOMEN   \n",
       "8                     4               1     [MTE, CONTRA]             MTE   \n",
       "9                     4               1           [TORAX]           TORAX   \n",
       "\n",
       "  Segunda Região Terceira Região Quarta Região  \n",
       "0           None            None          None  \n",
       "1           None            None          None  \n",
       "2         CONTRA            None          None  \n",
       "3          CAUDA            None          None  \n",
       "4           None            None          None  \n",
       "5           None            None          None  \n",
       "6           None            None          None  \n",
       "7           None            None          None  \n",
       "8         CONTRA            None          None  \n",
       "9           None            None          None  \n",
       "\n",
       "[10 rows x 21 columns]"
      ]
     },
     "execution_count": 385,
     "metadata": {},
     "output_type": "execute_result"
    }
   ],
   "source": [
    "df.head(10)"
   ]
  },
  {
   "cell_type": "markdown",
   "id": "8510f7d9",
   "metadata": {},
   "source": [
    "Algumas alterações para padronização"
   ]
  },
  {
   "cell_type": "code",
   "execution_count": 386,
   "id": "537958c6",
   "metadata": {},
   "outputs": [],
   "source": [
    "coluna_limpar = ['Primeira Região', 'Segunda Região', 'Terceira Região', 'Quarta Região']"
   ]
  },
  {
   "cell_type": "code",
   "execution_count": 387,
   "id": "93855f26",
   "metadata": {},
   "outputs": [],
   "source": [
    "df[coluna_limpar] = df[coluna_limpar].replace(\n",
    "    ['TRAQUEIA', 'COLAPSO', 'COLAPSO DE TRAQUEIA'], \n",
    "    'CERVICAL (PARTES MOLES)'\n",
    ")"
   ]
  },
  {
   "cell_type": "code",
   "execution_count": 388,
   "id": "8a6e054c",
   "metadata": {},
   "outputs": [],
   "source": [
    "df[coluna_limpar] = df[coluna_limpar].replace(\n",
    "    ['MPS'], \n",
    "    'MEMBROS PELVICOS'\n",
    ")"
   ]
  },
  {
   "cell_type": "code",
   "execution_count": 389,
   "id": "c5a79081",
   "metadata": {},
   "outputs": [],
   "source": [
    "df[coluna_limpar] = df[coluna_limpar].replace(\n",
    "    ['MPE'], \n",
    "    'MEMBRO PELVICO ESQUERDO'\n",
    ")"
   ]
  },
  {
   "cell_type": "code",
   "execution_count": 390,
   "id": "a3ded75b",
   "metadata": {},
   "outputs": [],
   "source": [
    "df[coluna_limpar] = df[coluna_limpar].replace(\n",
    "    ['MPD'], \n",
    "    'MEMBRO PELVICO DIREITO'\n",
    ")"
   ]
  },
  {
   "cell_type": "code",
   "execution_count": 391,
   "id": "3a228680",
   "metadata": {},
   "outputs": [],
   "source": [
    "df[coluna_limpar] = df[coluna_limpar].replace(\n",
    "    ['MTD'], \n",
    "    'MEMBRO TORACICO DIREITO'\n",
    ")"
   ]
  },
  {
   "cell_type": "code",
   "execution_count": 392,
   "id": "eea6792b",
   "metadata": {},
   "outputs": [],
   "source": [
    "df[coluna_limpar] = df[coluna_limpar].replace(\n",
    "    ['MTE'], \n",
    "    'MEMBRO TORACICO ESQUERDO'\n",
    ")"
   ]
  },
  {
   "cell_type": "code",
   "execution_count": 393,
   "id": "b4671403",
   "metadata": {},
   "outputs": [],
   "source": [
    "df[coluna_limpar] = df[coluna_limpar].replace(\n",
    "    ['PELVE', 'PELVIS', 'COXOFEMORAL'], \n",
    "    'COXAL'\n",
    ")"
   ]
  },
  {
   "cell_type": "code",
   "execution_count": 394,
   "id": "54f8ed68",
   "metadata": {},
   "outputs": [],
   "source": [
    "df[coluna_limpar] = df[coluna_limpar].replace(\n",
    "    ['CI'], \n",
    "    'CORPO INTEIRO (SILVESTRE)'\n",
    ")"
   ]
  },
  {
   "cell_type": "code",
   "execution_count": 395,
   "id": "ca2cddf8",
   "metadata": {},
   "outputs": [],
   "source": [
    "df['Raça'] = df['Raça'].replace(\n",
    "    ['CHOW'], \n",
    "    'CHOW CHOW'\n",
    ")"
   ]
  },
  {
   "cell_type": "markdown",
   "id": "60decfba",
   "metadata": {},
   "source": [
    "Formalizando Espécies"
   ]
  },
  {
   "cell_type": "code",
   "execution_count": 396,
   "id": "aa16bf06",
   "metadata": {},
   "outputs": [],
   "source": [
    "df['Espécie'] = df['Espécie'].str.upper()"
   ]
  },
  {
   "cell_type": "code",
   "execution_count": 397,
   "id": "02c55192",
   "metadata": {},
   "outputs": [],
   "source": [
    "df = df.drop_duplicates(subset=['Nome do Paciente', 'Nome do Tutor', 'Espécie'], keep='last')"
   ]
  },
  {
   "cell_type": "code",
   "execution_count": 398,
   "id": "3d88812e",
   "metadata": {},
   "outputs": [
    {
     "data": {
      "text/plain": [
       "(1091, 21)"
      ]
     },
     "execution_count": 398,
     "metadata": {},
     "output_type": "execute_result"
    }
   ],
   "source": [
    "df.shape"
   ]
  },
  {
   "cell_type": "code",
   "execution_count": 399,
   "id": "00d60ef5",
   "metadata": {},
   "outputs": [],
   "source": [
    "df['Espécie'] = df['Espécie'].replace(\n",
    "    ['ANINA'], \n",
    "    'CANINO'\n",
    ")"
   ]
  },
  {
   "cell_type": "code",
   "execution_count": 400,
   "id": "2b762c46",
   "metadata": {},
   "outputs": [],
   "source": [
    "df['Espécie'] = df['Espécie'].replace(\n",
    "    ['AVES'], \n",
    "    'AVE'\n",
    ")"
   ]
  },
  {
   "cell_type": "code",
   "execution_count": 401,
   "id": "8fcaadec",
   "metadata": {},
   "outputs": [],
   "source": [
    "df['Espécie'] = df['Espécie'].replace(\n",
    "    ['TARTARUGA'], \n",
    "    'QUELONIO'\n",
    ")"
   ]
  },
  {
   "cell_type": "code",
   "execution_count": 402,
   "id": "ad9b9d34",
   "metadata": {},
   "outputs": [],
   "source": [
    "df['Espécie'] = df['Espécie'].replace(\n",
    "    ['LARGOMORFO', 'COELHO'], \n",
    "    'LAGOMORFO'\n",
    ")"
   ]
  },
  {
   "cell_type": "markdown",
   "id": "df9b7f31",
   "metadata": {},
   "source": [
    "Limpeza da coluna 'Regiao"
   ]
  },
  {
   "cell_type": "code",
   "execution_count": 403,
   "id": "51dbfec0",
   "metadata": {},
   "outputs": [],
   "source": [
    "df['Espécie'] = df['Espécie'].replace(\n",
    "    ['LAGOMORFO', 'ROEDOR', 'REPTIL'], \n",
    "    'SILVESTRE'\n",
    ")"
   ]
  },
  {
   "cell_type": "code",
   "execution_count": 404,
   "id": "b7b347e9",
   "metadata": {},
   "outputs": [
    {
     "data": {
      "text/plain": [
       "Espécie\n",
       "CANINO       777\n",
       "FELINO       156\n",
       "AVE          100\n",
       "SILVESTRE     33\n",
       "QUELONIO      23\n",
       "QUILONIO       1\n",
       "CAINO          1\n",
       "Name: count, dtype: int64"
      ]
     },
     "execution_count": 404,
     "metadata": {},
     "output_type": "execute_result"
    }
   ],
   "source": [
    "df['Espécie'].value_counts()"
   ]
  },
  {
   "cell_type": "code",
   "execution_count": 405,
   "id": "8fa54cc0",
   "metadata": {},
   "outputs": [],
   "source": [
    "df['Regiao'] = (\n",
    "    df['Regiao']\n",
    "    .str.replace(r'\\.$', '', regex=True)  # Remove ponto final\n",
    "    .str.upper()  # Tudo maiúsculo\n",
    "    .str.replace(':', '', regex=False) #Remove :\n",
    "    .str.replace(r'\\bREGIÃO:?\\b', '', regex=True, flags=re.IGNORECASE)  # Remove REGIÃO ou REGIÃO:\n",
    "    .str.strip()  # Remove espaços no início e fim\n",
    "    .str.replace(r'\\s+', ' ', regex=True)  # Troca múltiplos espaços por um só\n",
    ")"
   ]
  },
  {
   "cell_type": "markdown",
   "id": "b6f50a81",
   "metadata": {},
   "source": [
    "Remove o \"P\" da coluna 'Numero de Projeções'"
   ]
  },
  {
   "cell_type": "code",
   "execution_count": 408,
   "id": "c55dc92c",
   "metadata": {},
   "outputs": [],
   "source": [
    "df['Numero de Projeções'] = df['Numero de Projeções'].str.extract(r'(\\d+)').astype(float)\n",
    "df['quantidade de imagens'] = df['quantidade de imagens'].astype(float)"
   ]
  },
  {
   "cell_type": "markdown",
   "id": "52f9fcc9",
   "metadata": {},
   "source": [
    "Preenchendo campos vazios do 'Numero de Projeções' com o numero de imagens extraidas"
   ]
  },
  {
   "cell_type": "code",
   "execution_count": 409,
   "id": "3a3d3a4c",
   "metadata": {},
   "outputs": [],
   "source": [
    "df['Numero de Projeções'] = df['Numero de Projeções'].fillna(df['quantidade de imagens'])"
   ]
  },
  {
   "cell_type": "code",
   "execution_count": 410,
   "id": "ad427afb",
   "metadata": {},
   "outputs": [
    {
     "data": {
      "text/plain": [
       "ID                          0\n",
       "Nome do Paciente            0\n",
       "Nome do Tutor               0\n",
       "Espécie                     0\n",
       "Raça                        0\n",
       "Regiao                      0\n",
       "Posicionamentos             0\n",
       "Laudo                       0\n",
       "Todos Exames                0\n",
       "Numero de Projeções         0\n",
       "Data do Exame               0\n",
       "Imagens                     0\n",
       "Idade (meses)               0\n",
       "lista de imagens            0\n",
       "quantidade de imagens       0\n",
       "Laudo Alterado              0\n",
       "Exames Separados            0\n",
       "Primeira Região             0\n",
       "Segunda Região            799\n",
       "Terceira Região          1085\n",
       "Quarta Região            1090\n",
       "dtype: int64"
      ]
     },
     "execution_count": 410,
     "metadata": {},
     "output_type": "execute_result"
    }
   ],
   "source": [
    "df.isnull().sum()"
   ]
  },
  {
   "cell_type": "markdown",
   "id": "195efc4a",
   "metadata": {},
   "source": [
    "Salvar em uma nova planilha o df manipulado"
   ]
  },
  {
   "cell_type": "code",
   "execution_count": 411,
   "id": "2e0ebe8a",
   "metadata": {},
   "outputs": [],
   "source": [
    "df.to_excel('laudos_piloto002.xlsx', index=False)"
   ]
  }
 ],
 "metadata": {
  "kernelspec": {
   "display_name": "base",
   "language": "python",
   "name": "python3"
  },
  "language_info": {
   "codemirror_mode": {
    "name": "ipython",
    "version": 3
   },
   "file_extension": ".py",
   "mimetype": "text/x-python",
   "name": "python",
   "nbconvert_exporter": "python",
   "pygments_lexer": "ipython3",
   "version": "3.13.3"
  }
 },
 "nbformat": 4,
 "nbformat_minor": 5
}
