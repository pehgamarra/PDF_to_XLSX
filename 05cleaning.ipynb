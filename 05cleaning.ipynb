{
 "cells": [
  {
   "cell_type": "markdown",
   "id": "7dc6626b",
   "metadata": {},
   "source": [
    "# Imports"
   ]
  },
  {
   "cell_type": "code",
   "execution_count": 1,
   "id": "743ad2d6",
   "metadata": {},
   "outputs": [],
   "source": [
    "import re\n",
    "import unicodedata\n",
    "import spacy\n",
    "import pandas as pd"
   ]
  },
  {
   "cell_type": "markdown",
   "id": "199ebd29",
   "metadata": {},
   "source": [
    "# Funções"
   ]
  },
  {
   "cell_type": "code",
   "execution_count": 2,
   "id": "c72bc6ed",
   "metadata": {},
   "outputs": [],
   "source": [
    "\n",
    "def limpar_dados(filepath):\n",
    "    df = pd.read_excel(filepath)\n",
    "    \n",
    "    # Normaliza os nomes das colunas\n",
    "    df.columns = df.columns.str.strip().str.lower()\n",
    "    \n",
    "    # Seleciona as colunas de interesse\n",
    "    colunas_necessarias = ['espécie', 'regiao_corpo_str', 'lista de imagens', 'laudo', 'laudo alterado']\n",
    "    df = df[colunas_necessarias].copy()\n",
    "    \n",
    "    # Trata 'lista de imagens' para garantir que seja lista\n",
    "    df['lista de imagens'] = df['lista de imagens'].apply(lambda x: eval(x) if isinstance(x, str) and x.startswith('[') else [img.strip() for img in x.split(',')])\n",
    "\n",
    "    # Cria coluna 'prompt'\n",
    "    def criar_prompt(row):\n",
    "        alterado = \"alterado\" if row['laudo alterado'] == 1 else \"sem alterações\"\n",
    "        return f\"Este é um exame de raio-x de um {row['espécie']}, região: {row['regiao_corpo_str']}. Resultado: {alterado}.\"\n",
    "    \n",
    "    df['prompt'] = df.apply(criar_prompt, axis=1)\n",
    "    \n",
    "    return df\n"
   ]
  },
  {
   "cell_type": "code",
   "execution_count": 3,
   "id": "e4d2d425",
   "metadata": {},
   "outputs": [],
   "source": [
    "# Carregar modelo spaCy para português\n",
    "nlp = spacy.load('pt_core_news_sm')\n",
    "\n",
    "def limpar_laudo(texto):\n",
    "    if pd.isnull(texto):\n",
    "        return \"\"  # Trata valores nulos\n",
    "\n",
    "    # 1. Minúsculas\n",
    "    texto = texto.lower()\n",
    "\n",
    "    # 2. Remover acentos\n",
    "    texto = unicodedata.normalize('NFD', texto).encode('ascii', 'ignore').decode('utf-8')\n",
    "\n",
    "    # 3. Remover expressões comuns\n",
    "    expressoes_comuns = [\n",
    "        'paciente:', 'exame:', 'observacao:', 'conclusao:',\n",
    "        'laudo:', 'imagem:', 'descricao:', 'analise:'\n",
    "    ]\n",
    "    for exp in expressoes_comuns:\n",
    "        texto = texto.replace(exp, '')\n",
    "\n",
    "    # 4. Remover pontuação (exceto hífen)\n",
    "    texto = re.sub(r'[^\\w\\s\\-]', '', texto)\n",
    "\n",
    "    # 5. Remover múltiplos espaços\n",
    "    texto = re.sub(r'\\s+', ' ', texto).strip()\n",
    "\n",
    "    # 6. Lematização e remoção de stopwords com spaCy\n",
    "    doc = nlp(texto)\n",
    "    \n",
    "    # Stopwords personalizadas\n",
    "    stop_words = nlp.Defaults.stop_words\n",
    "    palavras_importantes = {'sem', 'nao', 'com', 'presenca', 'ausencia'}\n",
    "    stop_words = stop_words - palavras_importantes\n",
    "\n",
    "    # Filtra tokens não stopwords e lematiza\n",
    "    lemas = [token.lemma_ for token in doc if token.text not in stop_words]\n",
    "\n",
    "    return ' '.join(lemas)\n"
   ]
  },
  {
   "cell_type": "markdown",
   "id": "0825b501",
   "metadata": {},
   "source": [
    "# Executando funções"
   ]
  },
  {
   "cell_type": "code",
   "execution_count": 4,
   "id": "f53f767c",
   "metadata": {},
   "outputs": [],
   "source": [
    "df = limpar_dados(\"laudos_piloto002.xlsx\")"
   ]
  },
  {
   "cell_type": "code",
   "execution_count": 5,
   "id": "90b14b93",
   "metadata": {},
   "outputs": [],
   "source": [
    "df['laudo'] = df['laudo'].apply(limpar_laudo)"
   ]
  },
  {
   "cell_type": "code",
   "execution_count": 6,
   "id": "48375b57",
   "metadata": {},
   "outputs": [
    {
     "data": {
      "text/html": [
       "<div>\n",
       "<style scoped>\n",
       "    .dataframe tbody tr th:only-of-type {\n",
       "        vertical-align: middle;\n",
       "    }\n",
       "\n",
       "    .dataframe tbody tr th {\n",
       "        vertical-align: top;\n",
       "    }\n",
       "\n",
       "    .dataframe thead th {\n",
       "        text-align: right;\n",
       "    }\n",
       "</style>\n",
       "<table border=\"1\" class=\"dataframe\">\n",
       "  <thead>\n",
       "    <tr style=\"text-align: right;\">\n",
       "      <th></th>\n",
       "      <th>espécie</th>\n",
       "      <th>regiao_corpo_str</th>\n",
       "      <th>lista de imagens</th>\n",
       "      <th>laudo</th>\n",
       "      <th>laudo alterado</th>\n",
       "      <th>prompt</th>\n",
       "    </tr>\n",
       "  </thead>\n",
       "  <tbody>\n",
       "    <tr>\n",
       "      <th>0</th>\n",
       "      <td>CANINO</td>\n",
       "      <td>COLUNA</td>\n",
       "      <td>[001_BALTAZAR ANDRESSA 12 anos 17225 29_04_202...</td>\n",
       "      <td>diminuicao espaco intervertebral t11-12 t13-l1...</td>\n",
       "      <td>0</td>\n",
       "      <td>Este é um exame de raio-x de um CANINO, região...</td>\n",
       "    </tr>\n",
       "    <tr>\n",
       "      <th>1</th>\n",
       "      <td>FELINO</td>\n",
       "      <td>TORAX</td>\n",
       "      <td>[002_ESMERALDA WILLIAN 14 anos 17185 28_04_202...</td>\n",
       "      <td>sem evidencia nodulo parenquima pulmonar detec...</td>\n",
       "      <td>1</td>\n",
       "      <td>Este é um exame de raio-x de um FELINO, região...</td>\n",
       "    </tr>\n",
       "    <tr>\n",
       "      <th>2</th>\n",
       "      <td>CANINO</td>\n",
       "      <td>EXTREMIDADES</td>\n",
       "      <td>[003_LUNA RENATA 10 anos 17231 29_04_2025_pg2_...</td>\n",
       "      <td>-proliferacao ossea solir regular adjacente fa...</td>\n",
       "      <td>1</td>\n",
       "      <td>Este é um exame de raio-x de um CANINO, região...</td>\n",
       "    </tr>\n",
       "    <tr>\n",
       "      <th>3</th>\n",
       "      <td>FELINO</td>\n",
       "      <td>ABDOMEN</td>\n",
       "      <td>[005_AIRAM WALTON 2 meses 17191 28_04_2025_pg2...</td>\n",
       "      <td>homogeneidade cavidade abdominal visibilizacao...</td>\n",
       "      <td>0</td>\n",
       "      <td>Este é um exame de raio-x de um FELINO, região...</td>\n",
       "    </tr>\n",
       "  </tbody>\n",
       "</table>\n",
       "</div>"
      ],
      "text/plain": [
       "  espécie regiao_corpo_str                                   lista de imagens  \\\n",
       "0  CANINO           COLUNA  [001_BALTAZAR ANDRESSA 12 anos 17225 29_04_202...   \n",
       "1  FELINO            TORAX  [002_ESMERALDA WILLIAN 14 anos 17185 28_04_202...   \n",
       "2  CANINO     EXTREMIDADES  [003_LUNA RENATA 10 anos 17231 29_04_2025_pg2_...   \n",
       "3  FELINO          ABDOMEN  [005_AIRAM WALTON 2 meses 17191 28_04_2025_pg2...   \n",
       "\n",
       "                                               laudo  laudo alterado  \\\n",
       "0  diminuicao espaco intervertebral t11-12 t13-l1...               0   \n",
       "1  sem evidencia nodulo parenquima pulmonar detec...               1   \n",
       "2  -proliferacao ossea solir regular adjacente fa...               1   \n",
       "3  homogeneidade cavidade abdominal visibilizacao...               0   \n",
       "\n",
       "                                              prompt  \n",
       "0  Este é um exame de raio-x de um CANINO, região...  \n",
       "1  Este é um exame de raio-x de um FELINO, região...  \n",
       "2  Este é um exame de raio-x de um CANINO, região...  \n",
       "3  Este é um exame de raio-x de um FELINO, região...  "
      ]
     },
     "execution_count": 6,
     "metadata": {},
     "output_type": "execute_result"
    }
   ],
   "source": [
    "df.head(4)"
   ]
  },
  {
   "cell_type": "code",
   "execution_count": 7,
   "id": "6cb0677d",
   "metadata": {},
   "outputs": [
    {
     "data": {
      "text/plain": [
       "espécie\n",
       "CANINO       684\n",
       "FELINO       144\n",
       "AVE           99\n",
       "QUELONIO      23\n",
       "SILVESTRE     14\n",
       "QUILONIO       1\n",
       "CAINO          1\n",
       "Name: count, dtype: int64"
      ]
     },
     "execution_count": 7,
     "metadata": {},
     "output_type": "execute_result"
    }
   ],
   "source": [
    "df['espécie'].value_counts()"
   ]
  },
  {
   "cell_type": "code",
   "execution_count": 8,
   "id": "facf6854",
   "metadata": {},
   "outputs": [],
   "source": [
    "df = df[df['espécie'].isin(['CANINO', 'FELINO'])]"
   ]
  },
  {
   "cell_type": "code",
   "execution_count": 9,
   "metadata": {},
   "outputs": [],
   "source": [
    "df = df.drop(['espécie'], axis=1)"
   ]
  },
  {
   "cell_type": "code",
   "execution_count": 10,
   "id": "d620a284",
   "metadata": {},
   "outputs": [
    {
     "data": {
      "text/plain": [
       "regiao_corpo_str\n",
       "TORAX           338\n",
       "EXTREMIDADES    251\n",
       "COLUNA          124\n",
       "ABDOMEN          69\n",
       "CRANIO           46\n",
       "Name: count, dtype: int64"
      ]
     },
     "execution_count": 10,
     "metadata": {},
     "output_type": "execute_result"
    }
   ],
   "source": [
    "df['regiao_corpo_str'].value_counts()"
   ]
  },
  {
   "cell_type": "code",
   "execution_count": 11,
   "id": "1050649d",
   "metadata": {},
   "outputs": [
    {
     "data": {
      "text/plain": [
       "0    Este é um exame de raio-x de um CANINO, região...\n",
       "Name: prompt, dtype: object"
      ]
     },
     "execution_count": 11,
     "metadata": {},
     "output_type": "execute_result"
    }
   ],
   "source": [
    "df['prompt'].head(1)"
   ]
  },
  {
   "cell_type": "code",
   "execution_count": 12,
   "id": "1b5cec7a",
   "metadata": {},
   "outputs": [],
   "source": [
    "df['laudo_alterado'] = df['laudo alterado']"
   ]
  },
  {
   "cell_type": "code",
   "execution_count": 13,
   "id": "9fd6cfe6",
   "metadata": {},
   "outputs": [
    {
     "data": {
      "text/html": [
       "<div>\n",
       "<style scoped>\n",
       "    .dataframe tbody tr th:only-of-type {\n",
       "        vertical-align: middle;\n",
       "    }\n",
       "\n",
       "    .dataframe tbody tr th {\n",
       "        vertical-align: top;\n",
       "    }\n",
       "\n",
       "    .dataframe thead th {\n",
       "        text-align: right;\n",
       "    }\n",
       "</style>\n",
       "<table border=\"1\" class=\"dataframe\">\n",
       "  <thead>\n",
       "    <tr style=\"text-align: right;\">\n",
       "      <th></th>\n",
       "      <th>regiao_corpo_str</th>\n",
       "      <th>lista de imagens</th>\n",
       "      <th>laudo</th>\n",
       "      <th>laudo alterado</th>\n",
       "      <th>prompt</th>\n",
       "      <th>laudo_alterado</th>\n",
       "    </tr>\n",
       "  </thead>\n",
       "  <tbody>\n",
       "    <tr>\n",
       "      <th>0</th>\n",
       "      <td>COLUNA</td>\n",
       "      <td>[001_BALTAZAR ANDRESSA 12 anos 17225 29_04_202...</td>\n",
       "      <td>diminuicao espaco intervertebral t11-12 t13-l1...</td>\n",
       "      <td>0</td>\n",
       "      <td>Este é um exame de raio-x de um CANINO, região...</td>\n",
       "      <td>0</td>\n",
       "    </tr>\n",
       "    <tr>\n",
       "      <th>1</th>\n",
       "      <td>TORAX</td>\n",
       "      <td>[002_ESMERALDA WILLIAN 14 anos 17185 28_04_202...</td>\n",
       "      <td>sem evidencia nodulo parenquima pulmonar detec...</td>\n",
       "      <td>1</td>\n",
       "      <td>Este é um exame de raio-x de um FELINO, região...</td>\n",
       "      <td>1</td>\n",
       "    </tr>\n",
       "    <tr>\n",
       "      <th>2</th>\n",
       "      <td>EXTREMIDADES</td>\n",
       "      <td>[003_LUNA RENATA 10 anos 17231 29_04_2025_pg2_...</td>\n",
       "      <td>-proliferacao ossea solir regular adjacente fa...</td>\n",
       "      <td>1</td>\n",
       "      <td>Este é um exame de raio-x de um CANINO, região...</td>\n",
       "      <td>1</td>\n",
       "    </tr>\n",
       "    <tr>\n",
       "      <th>3</th>\n",
       "      <td>ABDOMEN</td>\n",
       "      <td>[005_AIRAM WALTON 2 meses 17191 28_04_2025_pg2...</td>\n",
       "      <td>homogeneidade cavidade abdominal visibilizacao...</td>\n",
       "      <td>0</td>\n",
       "      <td>Este é um exame de raio-x de um FELINO, região...</td>\n",
       "      <td>0</td>\n",
       "    </tr>\n",
       "    <tr>\n",
       "      <th>4</th>\n",
       "      <td>TORAX</td>\n",
       "      <td>[007_LAURA ONELI 6 anos 16026 01_04_2025_pg2_i...</td>\n",
       "      <td>segmento vertebral cervical sem alteraco radio...</td>\n",
       "      <td>1</td>\n",
       "      <td>Este é um exame de raio-x de um CANINO, região...</td>\n",
       "      <td>1</td>\n",
       "    </tr>\n",
       "    <tr>\n",
       "      <th>...</th>\n",
       "      <td>...</td>\n",
       "      <td>...</td>\n",
       "      <td>...</td>\n",
       "      <td>...</td>\n",
       "      <td>...</td>\n",
       "      <td>...</td>\n",
       "    </tr>\n",
       "    <tr>\n",
       "      <th>960</th>\n",
       "      <td>TORAX</td>\n",
       "      <td>[992_FRAJOLA RENILDA 3 anos 15837 29_03_2025_p...</td>\n",
       "      <td>sem evidencia nodulo parenquima pulmonar detec...</td>\n",
       "      <td>1</td>\n",
       "      <td>Este é um exame de raio-x de um FELINO, região...</td>\n",
       "      <td>1</td>\n",
       "    </tr>\n",
       "    <tr>\n",
       "      <th>962</th>\n",
       "      <td>TORAX</td>\n",
       "      <td>[995_NICK TOMAS 14 anos 15876 29_03_2025_pg2_i...</td>\n",
       "      <td>presenca areo arredondada radiopacidade tecido...</td>\n",
       "      <td>1</td>\n",
       "      <td>Este é um exame de raio-x de um CANINO, região...</td>\n",
       "      <td>1</td>\n",
       "    </tr>\n",
       "    <tr>\n",
       "      <th>963</th>\n",
       "      <td>TORAX</td>\n",
       "      <td>[996_SHEIK ANA SILVIA 9 anos 15874 28_03_2025_...</td>\n",
       "      <td>achar radiografico opacificacao focal padrao a...</td>\n",
       "      <td>1</td>\n",
       "      <td>Este é um exame de raio-x de um CANINO, região...</td>\n",
       "      <td>1</td>\n",
       "    </tr>\n",
       "    <tr>\n",
       "      <th>964</th>\n",
       "      <td>EXTREMIDADES</td>\n",
       "      <td>[998_BIZU CANUTO 8 anos 15421 28_03_2025_pg2_i...</td>\n",
       "      <td>sutil linha radiotransparente terco distal dia...</td>\n",
       "      <td>0</td>\n",
       "      <td>Este é um exame de raio-x de um CANINO, região...</td>\n",
       "      <td>0</td>\n",
       "    </tr>\n",
       "    <tr>\n",
       "      <th>965</th>\n",
       "      <td>EXTREMIDADES</td>\n",
       "      <td>[999_FLASH JULIA 6 anos 15870 28_03_2025_pg2_i...</td>\n",
       "      <td>deslocamento cranial eminencia intercondilar t...</td>\n",
       "      <td>1</td>\n",
       "      <td>Este é um exame de raio-x de um CANINO, região...</td>\n",
       "      <td>1</td>\n",
       "    </tr>\n",
       "  </tbody>\n",
       "</table>\n",
       "<p>828 rows × 6 columns</p>\n",
       "</div>"
      ],
      "text/plain": [
       "    regiao_corpo_str                                   lista de imagens  \\\n",
       "0             COLUNA  [001_BALTAZAR ANDRESSA 12 anos 17225 29_04_202...   \n",
       "1              TORAX  [002_ESMERALDA WILLIAN 14 anos 17185 28_04_202...   \n",
       "2       EXTREMIDADES  [003_LUNA RENATA 10 anos 17231 29_04_2025_pg2_...   \n",
       "3            ABDOMEN  [005_AIRAM WALTON 2 meses 17191 28_04_2025_pg2...   \n",
       "4              TORAX  [007_LAURA ONELI 6 anos 16026 01_04_2025_pg2_i...   \n",
       "..               ...                                                ...   \n",
       "960            TORAX  [992_FRAJOLA RENILDA 3 anos 15837 29_03_2025_p...   \n",
       "962            TORAX  [995_NICK TOMAS 14 anos 15876 29_03_2025_pg2_i...   \n",
       "963            TORAX  [996_SHEIK ANA SILVIA 9 anos 15874 28_03_2025_...   \n",
       "964     EXTREMIDADES  [998_BIZU CANUTO 8 anos 15421 28_03_2025_pg2_i...   \n",
       "965     EXTREMIDADES  [999_FLASH JULIA 6 anos 15870 28_03_2025_pg2_i...   \n",
       "\n",
       "                                                 laudo  laudo alterado  \\\n",
       "0    diminuicao espaco intervertebral t11-12 t13-l1...               0   \n",
       "1    sem evidencia nodulo parenquima pulmonar detec...               1   \n",
       "2    -proliferacao ossea solir regular adjacente fa...               1   \n",
       "3    homogeneidade cavidade abdominal visibilizacao...               0   \n",
       "4    segmento vertebral cervical sem alteraco radio...               1   \n",
       "..                                                 ...             ...   \n",
       "960  sem evidencia nodulo parenquima pulmonar detec...               1   \n",
       "962  presenca areo arredondada radiopacidade tecido...               1   \n",
       "963  achar radiografico opacificacao focal padrao a...               1   \n",
       "964  sutil linha radiotransparente terco distal dia...               0   \n",
       "965  deslocamento cranial eminencia intercondilar t...               1   \n",
       "\n",
       "                                                prompt  laudo_alterado  \n",
       "0    Este é um exame de raio-x de um CANINO, região...               0  \n",
       "1    Este é um exame de raio-x de um FELINO, região...               1  \n",
       "2    Este é um exame de raio-x de um CANINO, região...               1  \n",
       "3    Este é um exame de raio-x de um FELINO, região...               0  \n",
       "4    Este é um exame de raio-x de um CANINO, região...               1  \n",
       "..                                                 ...             ...  \n",
       "960  Este é um exame de raio-x de um FELINO, região...               1  \n",
       "962  Este é um exame de raio-x de um CANINO, região...               1  \n",
       "963  Este é um exame de raio-x de um CANINO, região...               1  \n",
       "964  Este é um exame de raio-x de um CANINO, região...               0  \n",
       "965  Este é um exame de raio-x de um CANINO, região...               1  \n",
       "\n",
       "[828 rows x 6 columns]"
      ]
     },
     "execution_count": 13,
     "metadata": {},
     "output_type": "execute_result"
    }
   ],
   "source": [
    "df.dropna()"
   ]
  },
  {
   "cell_type": "code",
   "execution_count": 14,
   "id": "b09cfce6",
   "metadata": {},
   "outputs": [],
   "source": [
    "df = df.drop('laudo_alterado', axis=1)"
   ]
  },
  {
   "cell_type": "code",
   "execution_count": 15,
   "id": "02169d41",
   "metadata": {},
   "outputs": [],
   "source": [
    "df[df['regiao_corpo_str'] == 'TORAX'].to_excel('excel para aprendizado/torax_para_aprendizado.xlsx', index=False)"
   ]
  },
  {
   "cell_type": "code",
   "execution_count": 16,
   "id": "876d2c86",
   "metadata": {},
   "outputs": [],
   "source": [
    "df[df['regiao_corpo_str'] == 'EXTREMIDADES'].to_excel('excel para aprendizado/extremidades_para_aprendizado.xlsx', index=False)"
   ]
  },
  {
   "cell_type": "code",
   "execution_count": 17,
   "id": "30b4e827",
   "metadata": {},
   "outputs": [],
   "source": [
    "df[df['regiao_corpo_str'] == 'COLUNA'].to_excel('excel para aprendizado/coluna_para_aprendizado.xlsx', index=False)"
   ]
  },
  {
   "cell_type": "code",
   "execution_count": 18,
   "id": "59566d73",
   "metadata": {},
   "outputs": [],
   "source": [
    "df[df['regiao_corpo_str'] == 'CRANIO'].to_excel('excel para aprendizado/cranio_para_aprendizado.xlsx', index=False)"
   ]
  },
  {
   "cell_type": "code",
   "execution_count": 19,
   "id": "c5a252c3",
   "metadata": {},
   "outputs": [],
   "source": [
    "df[df['regiao_corpo_str'] == 'ABDOMEN'].to_excel('excel para aprendizado/abdomen_para_aprendizado.xlsx', index=False)"
   ]
  },
  {
   "cell_type": "code",
   "execution_count": 20,
   "id": "9df30bf8",
   "metadata": {},
   "outputs": [],
   "source": [
    "df[df['regiao_corpo_str'] == 'EXTREMIDADES, COLUNA'].to_excel('excel para aprendizado/extrem_col_para_aprendizado.xlsx', index=False)"
   ]
  },
  {
   "cell_type": "code",
   "execution_count": 21,
   "id": "78ae7c74",
   "metadata": {},
   "outputs": [
    {
     "data": {
      "text/plain": [
       "(828, 5)"
      ]
     },
     "execution_count": 21,
     "metadata": {},
     "output_type": "execute_result"
    }
   ],
   "source": [
    "df.shape"
   ]
  },
  {
   "cell_type": "code",
   "execution_count": 22,
   "id": "a438d4f6",
   "metadata": {},
   "outputs": [],
   "source": [
    "df.to_excel('laudos_piloto003.xlsx', index=False)"
   ]
  }
 ],
 "metadata": {
  "kernelspec": {
   "display_name": "base",
   "language": "python",
   "name": "python3"
  },
  "language_info": {
   "codemirror_mode": {
    "name": "ipython",
    "version": 3
   },
   "file_extension": ".py",
   "mimetype": "text/x-python",
   "name": "python",
   "nbconvert_exporter": "python",
   "pygments_lexer": "ipython3",
   "version": "3.13.3"
  }
 },
 "nbformat": 4,
 "nbformat_minor": 5
}
